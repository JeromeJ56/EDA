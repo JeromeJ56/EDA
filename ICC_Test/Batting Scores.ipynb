{
 "cells": [
  {
   "cell_type": "markdown",
   "metadata": {},
   "source": [
    "# Importing Required Libraries\n"
   ]
  },
  {
   "cell_type": "code",
   "execution_count": 1,
   "metadata": {},
   "outputs": [],
   "source": [
    "import pandas as pd\n",
    "import numpy as np\n",
    "import seaborn as sns\n",
    "import matplotlib.pyplot as plt\n",
    "import scipy.stats as st\n",
    "import math\n",
    "%matplotlib inline\n",
    "\n",
    "import missingno\n",
    "\n",
    "sns.set(style=\"whitegrid\")"
   ]
  },
  {
   "cell_type": "code",
   "execution_count": 2,
   "metadata": {},
   "outputs": [],
   "source": [
    "# Ignore warnings\n",
    "import warnings\n",
    "warnings.filterwarnings('ignore')"
   ]
  },
  {
   "cell_type": "markdown",
   "metadata": {},
   "source": [
    "# Import Dataset"
   ]
  },
  {
   "cell_type": "code",
   "execution_count": 3,
   "metadata": {},
   "outputs": [],
   "source": [
    "raw_data = pd.read_excel('E:\\\\Datasets\\\\icc-test-cricket-runs\\\\ICC Test Bat 3001.xlsx',sheet_name='book') "
   ]
  },
  {
   "cell_type": "code",
   "execution_count": 4,
   "metadata": {},
   "outputs": [
    {
     "name": "stdout",
     "output_type": "stream",
     "text": [
      "The shape of the dataset :  (3001, 12)\n"
     ]
    }
   ],
   "source": [
    "# print the shape\n",
    "print('The shape of the dataset : ', raw_data.shape)"
   ]
  },
  {
   "cell_type": "code",
   "execution_count": 5,
   "metadata": {},
   "outputs": [
    {
     "data": {
      "text/html": [
       "<div>\n",
       "<style scoped>\n",
       "    .dataframe tbody tr th:only-of-type {\n",
       "        vertical-align: middle;\n",
       "    }\n",
       "\n",
       "    .dataframe tbody tr th {\n",
       "        vertical-align: top;\n",
       "    }\n",
       "\n",
       "    .dataframe thead th {\n",
       "        text-align: right;\n",
       "    }\n",
       "</style>\n",
       "<table border=\"1\" class=\"dataframe\">\n",
       "  <thead>\n",
       "    <tr style=\"text-align: right;\">\n",
       "      <th></th>\n",
       "      <th>Player</th>\n",
       "      <th>Span</th>\n",
       "      <th>Mat</th>\n",
       "      <th>Inn</th>\n",
       "      <th>NO</th>\n",
       "      <th>Runs</th>\n",
       "      <th>HS</th>\n",
       "      <th>Avg</th>\n",
       "      <th>100</th>\n",
       "      <th>50</th>\n",
       "      <th>0</th>\n",
       "      <th>Player Profile</th>\n",
       "    </tr>\n",
       "  </thead>\n",
       "  <tbody>\n",
       "    <tr>\n",
       "      <th>0</th>\n",
       "      <td>SR Tendulkar (INDIA)</td>\n",
       "      <td>1989-2013</td>\n",
       "      <td>200</td>\n",
       "      <td>329</td>\n",
       "      <td>33</td>\n",
       "      <td>15921</td>\n",
       "      <td>248*</td>\n",
       "      <td>53.78</td>\n",
       "      <td>51</td>\n",
       "      <td>68</td>\n",
       "      <td>14</td>\n",
       "      <td>http://stats.espncricinfo.com/ci/content/playe...</td>\n",
       "    </tr>\n",
       "    <tr>\n",
       "      <th>1</th>\n",
       "      <td>RT Ponting (AUS)</td>\n",
       "      <td>1995-2012</td>\n",
       "      <td>168</td>\n",
       "      <td>287</td>\n",
       "      <td>29</td>\n",
       "      <td>13378</td>\n",
       "      <td>257</td>\n",
       "      <td>51.85</td>\n",
       "      <td>41</td>\n",
       "      <td>62</td>\n",
       "      <td>17</td>\n",
       "      <td>http://stats.espncricinfo.com/ci/content/playe...</td>\n",
       "    </tr>\n",
       "    <tr>\n",
       "      <th>2</th>\n",
       "      <td>JH Kallis (ICC/SA)</td>\n",
       "      <td>1995-2013</td>\n",
       "      <td>166</td>\n",
       "      <td>280</td>\n",
       "      <td>40</td>\n",
       "      <td>13289</td>\n",
       "      <td>224</td>\n",
       "      <td>55.37</td>\n",
       "      <td>45</td>\n",
       "      <td>58</td>\n",
       "      <td>16</td>\n",
       "      <td>http://stats.espncricinfo.com/ci/content/playe...</td>\n",
       "    </tr>\n",
       "    <tr>\n",
       "      <th>3</th>\n",
       "      <td>R Dravid (ICC/INDIA)</td>\n",
       "      <td>1996-2012</td>\n",
       "      <td>164</td>\n",
       "      <td>286</td>\n",
       "      <td>32</td>\n",
       "      <td>13288</td>\n",
       "      <td>270</td>\n",
       "      <td>52.31</td>\n",
       "      <td>36</td>\n",
       "      <td>63</td>\n",
       "      <td>8</td>\n",
       "      <td>http://stats.espncricinfo.com/ci/content/playe...</td>\n",
       "    </tr>\n",
       "    <tr>\n",
       "      <th>4</th>\n",
       "      <td>AN Cook (ENG)</td>\n",
       "      <td>2006-2018</td>\n",
       "      <td>161</td>\n",
       "      <td>291</td>\n",
       "      <td>16</td>\n",
       "      <td>12472</td>\n",
       "      <td>294</td>\n",
       "      <td>45.35</td>\n",
       "      <td>33</td>\n",
       "      <td>57</td>\n",
       "      <td>9</td>\n",
       "      <td>http://stats.espncricinfo.com/ci/content/playe...</td>\n",
       "    </tr>\n",
       "    <tr>\n",
       "      <th>5</th>\n",
       "      <td>KC Sangakkara (SL)</td>\n",
       "      <td>2000-2015</td>\n",
       "      <td>134</td>\n",
       "      <td>233</td>\n",
       "      <td>17</td>\n",
       "      <td>12400</td>\n",
       "      <td>319</td>\n",
       "      <td>57.4</td>\n",
       "      <td>38</td>\n",
       "      <td>52</td>\n",
       "      <td>11</td>\n",
       "      <td>http://stats.espncricinfo.com/ci/content/playe...</td>\n",
       "    </tr>\n",
       "    <tr>\n",
       "      <th>6</th>\n",
       "      <td>BC Lara (ICC/WI)</td>\n",
       "      <td>1990-2006</td>\n",
       "      <td>131</td>\n",
       "      <td>232</td>\n",
       "      <td>6</td>\n",
       "      <td>11953</td>\n",
       "      <td>400*</td>\n",
       "      <td>52.88</td>\n",
       "      <td>34</td>\n",
       "      <td>48</td>\n",
       "      <td>17</td>\n",
       "      <td>http://stats.espncricinfo.com/ci/content/playe...</td>\n",
       "    </tr>\n",
       "    <tr>\n",
       "      <th>7</th>\n",
       "      <td>S Chanderpaul (WI)</td>\n",
       "      <td>1994-2015</td>\n",
       "      <td>164</td>\n",
       "      <td>280</td>\n",
       "      <td>49</td>\n",
       "      <td>11867</td>\n",
       "      <td>203*</td>\n",
       "      <td>51.37</td>\n",
       "      <td>30</td>\n",
       "      <td>66</td>\n",
       "      <td>15</td>\n",
       "      <td>http://stats.espncricinfo.com/ci/content/playe...</td>\n",
       "    </tr>\n",
       "    <tr>\n",
       "      <th>8</th>\n",
       "      <td>DPMD Jayawardene (SL)</td>\n",
       "      <td>1997-2014</td>\n",
       "      <td>149</td>\n",
       "      <td>252</td>\n",
       "      <td>15</td>\n",
       "      <td>11814</td>\n",
       "      <td>374</td>\n",
       "      <td>49.84</td>\n",
       "      <td>34</td>\n",
       "      <td>50</td>\n",
       "      <td>15</td>\n",
       "      <td>http://stats.espncricinfo.com/ci/content/playe...</td>\n",
       "    </tr>\n",
       "    <tr>\n",
       "      <th>9</th>\n",
       "      <td>AR Border (AUS)</td>\n",
       "      <td>1978-1994</td>\n",
       "      <td>156</td>\n",
       "      <td>265</td>\n",
       "      <td>44</td>\n",
       "      <td>11174</td>\n",
       "      <td>205</td>\n",
       "      <td>50.56</td>\n",
       "      <td>27</td>\n",
       "      <td>63</td>\n",
       "      <td>11</td>\n",
       "      <td>http://stats.espncricinfo.com/ci/content/playe...</td>\n",
       "    </tr>\n",
       "  </tbody>\n",
       "</table>\n",
       "</div>"
      ],
      "text/plain": [
       "                  Player       Span  Mat  Inn  NO   Runs    HS    Avg 100  50  \\\n",
       "0   SR Tendulkar (INDIA)  1989-2013  200  329  33  15921  248*  53.78  51  68   \n",
       "1       RT Ponting (AUS)  1995-2012  168  287  29  13378   257  51.85  41  62   \n",
       "2     JH Kallis (ICC/SA)  1995-2013  166  280  40  13289   224  55.37  45  58   \n",
       "3   R Dravid (ICC/INDIA)  1996-2012  164  286  32  13288   270  52.31  36  63   \n",
       "4          AN Cook (ENG)  2006-2018  161  291  16  12472   294  45.35  33  57   \n",
       "5     KC Sangakkara (SL)  2000-2015  134  233  17  12400   319   57.4  38  52   \n",
       "6       BC Lara (ICC/WI)  1990-2006  131  232   6  11953  400*  52.88  34  48   \n",
       "7     S Chanderpaul (WI)  1994-2015  164  280  49  11867  203*  51.37  30  66   \n",
       "8  DPMD Jayawardene (SL)  1997-2014  149  252  15  11814   374  49.84  34  50   \n",
       "9        AR Border (AUS)  1978-1994  156  265  44  11174   205  50.56  27  63   \n",
       "\n",
       "    0                                     Player Profile  \n",
       "0  14  http://stats.espncricinfo.com/ci/content/playe...  \n",
       "1  17  http://stats.espncricinfo.com/ci/content/playe...  \n",
       "2  16  http://stats.espncricinfo.com/ci/content/playe...  \n",
       "3   8  http://stats.espncricinfo.com/ci/content/playe...  \n",
       "4   9  http://stats.espncricinfo.com/ci/content/playe...  \n",
       "5  11  http://stats.espncricinfo.com/ci/content/playe...  \n",
       "6  17  http://stats.espncricinfo.com/ci/content/playe...  \n",
       "7  15  http://stats.espncricinfo.com/ci/content/playe...  \n",
       "8  15  http://stats.espncricinfo.com/ci/content/playe...  \n",
       "9  11  http://stats.espncricinfo.com/ci/content/playe...  "
      ]
     },
     "execution_count": 5,
     "metadata": {},
     "output_type": "execute_result"
    }
   ],
   "source": [
    "# preview dataset\n",
    "raw_data.head(10)"
   ]
  },
  {
   "cell_type": "code",
   "execution_count": 6,
   "metadata": {},
   "outputs": [
    {
     "data": {
      "text/html": [
       "<div>\n",
       "<style scoped>\n",
       "    .dataframe tbody tr th:only-of-type {\n",
       "        vertical-align: middle;\n",
       "    }\n",
       "\n",
       "    .dataframe tbody tr th {\n",
       "        vertical-align: top;\n",
       "    }\n",
       "\n",
       "    .dataframe thead th {\n",
       "        text-align: right;\n",
       "    }\n",
       "</style>\n",
       "<table border=\"1\" class=\"dataframe\">\n",
       "  <thead>\n",
       "    <tr style=\"text-align: right;\">\n",
       "      <th></th>\n",
       "      <th>Player</th>\n",
       "      <th>Span</th>\n",
       "      <th>Mat</th>\n",
       "      <th>Inn</th>\n",
       "      <th>NO</th>\n",
       "      <th>Runs</th>\n",
       "      <th>HS</th>\n",
       "      <th>Avg</th>\n",
       "      <th>100</th>\n",
       "      <th>50</th>\n",
       "      <th>0</th>\n",
       "      <th>Player Profile</th>\n",
       "    </tr>\n",
       "  </thead>\n",
       "  <tbody>\n",
       "    <tr>\n",
       "      <th>2981</th>\n",
       "      <td>Ali Hussain Rizvi (PAK)</td>\n",
       "      <td>1997-1997</td>\n",
       "      <td>1</td>\n",
       "      <td>-</td>\n",
       "      <td>-</td>\n",
       "      <td>-</td>\n",
       "      <td>-</td>\n",
       "      <td>-</td>\n",
       "      <td>-</td>\n",
       "      <td>-</td>\n",
       "      <td>-</td>\n",
       "      <td>http://stats.espncricinfo.com/ci/content/playe...</td>\n",
       "    </tr>\n",
       "    <tr>\n",
       "      <th>2982</th>\n",
       "      <td>PJ Allan (AUS)</td>\n",
       "      <td>1965-1965</td>\n",
       "      <td>1</td>\n",
       "      <td>-</td>\n",
       "      <td>-</td>\n",
       "      <td>-</td>\n",
       "      <td>-</td>\n",
       "      <td>-</td>\n",
       "      <td>-</td>\n",
       "      <td>-</td>\n",
       "      <td>-</td>\n",
       "      <td>http://stats.espncricinfo.com/ci/content/playe...</td>\n",
       "    </tr>\n",
       "    <tr>\n",
       "      <th>2983</th>\n",
       "      <td>JC Clay (ENG)</td>\n",
       "      <td>1935-1935</td>\n",
       "      <td>1</td>\n",
       "      <td>-</td>\n",
       "      <td>-</td>\n",
       "      <td>-</td>\n",
       "      <td>-</td>\n",
       "      <td>-</td>\n",
       "      <td>-</td>\n",
       "      <td>-</td>\n",
       "      <td>-</td>\n",
       "      <td>http://stats.espncricinfo.com/ci/content/playe...</td>\n",
       "    </tr>\n",
       "    <tr>\n",
       "      <th>2984</th>\n",
       "      <td>DJ Cullen (AUS)</td>\n",
       "      <td>2006-2006</td>\n",
       "      <td>1</td>\n",
       "      <td>-</td>\n",
       "      <td>-</td>\n",
       "      <td>-</td>\n",
       "      <td>-</td>\n",
       "      <td>-</td>\n",
       "      <td>-</td>\n",
       "      <td>-</td>\n",
       "      <td>-</td>\n",
       "      <td>http://stats.espncricinfo.com/ci/content/playe...</td>\n",
       "    </tr>\n",
       "    <tr>\n",
       "      <th>2985</th>\n",
       "      <td>HT Dani (INDIA)</td>\n",
       "      <td>1952-1952</td>\n",
       "      <td>1</td>\n",
       "      <td>-</td>\n",
       "      <td>-</td>\n",
       "      <td>-</td>\n",
       "      <td>-</td>\n",
       "      <td>-</td>\n",
       "      <td>-</td>\n",
       "      <td>-</td>\n",
       "      <td>-</td>\n",
       "      <td>http://stats.espncricinfo.com/ci/content/playe...</td>\n",
       "    </tr>\n",
       "    <tr>\n",
       "      <th>2986</th>\n",
       "      <td>Farrukh Zaman (PAK)</td>\n",
       "      <td>1976-1976</td>\n",
       "      <td>1</td>\n",
       "      <td>-</td>\n",
       "      <td>-</td>\n",
       "      <td>-</td>\n",
       "      <td>-</td>\n",
       "      <td>-</td>\n",
       "      <td>-</td>\n",
       "      <td>-</td>\n",
       "      <td>-</td>\n",
       "      <td>http://stats.espncricinfo.com/ci/content/playe...</td>\n",
       "    </tr>\n",
       "    <tr>\n",
       "      <th>2987</th>\n",
       "      <td>AB Howard (WI)</td>\n",
       "      <td>1972-1972</td>\n",
       "      <td>1</td>\n",
       "      <td>-</td>\n",
       "      <td>-</td>\n",
       "      <td>-</td>\n",
       "      <td>-</td>\n",
       "      <td>-</td>\n",
       "      <td>-</td>\n",
       "      <td>-</td>\n",
       "      <td>-</td>\n",
       "      <td>http://stats.espncricinfo.com/ci/content/playe...</td>\n",
       "    </tr>\n",
       "    <tr>\n",
       "      <th>2988</th>\n",
       "      <td>A Khan (ENG)</td>\n",
       "      <td>2009-2009</td>\n",
       "      <td>1</td>\n",
       "      <td>-</td>\n",
       "      <td>-</td>\n",
       "      <td>-</td>\n",
       "      <td>-</td>\n",
       "      <td>-</td>\n",
       "      <td>-</td>\n",
       "      <td>-</td>\n",
       "      <td>-</td>\n",
       "      <td>http://stats.espncricinfo.com/ci/content/playe...</td>\n",
       "    </tr>\n",
       "    <tr>\n",
       "      <th>2989</th>\n",
       "      <td>JCW MacBryan (ENG)</td>\n",
       "      <td>1924-1924</td>\n",
       "      <td>1</td>\n",
       "      <td>-</td>\n",
       "      <td>-</td>\n",
       "      <td>-</td>\n",
       "      <td>-</td>\n",
       "      <td>-</td>\n",
       "      <td>-</td>\n",
       "      <td>-</td>\n",
       "      <td>-</td>\n",
       "      <td>http://stats.espncricinfo.com/ci/content/playe...</td>\n",
       "    </tr>\n",
       "    <tr>\n",
       "      <th>2990</th>\n",
       "      <td>LR Pierre (WI)</td>\n",
       "      <td>1948-1948</td>\n",
       "      <td>1</td>\n",
       "      <td>-</td>\n",
       "      <td>-</td>\n",
       "      <td>-</td>\n",
       "      <td>-</td>\n",
       "      <td>-</td>\n",
       "      <td>-</td>\n",
       "      <td>-</td>\n",
       "      <td>-</td>\n",
       "      <td>http://stats.espncricinfo.com/ci/content/playe...</td>\n",
       "    </tr>\n",
       "    <tr>\n",
       "      <th>2991</th>\n",
       "      <td>V Rajindernath (INDIA)</td>\n",
       "      <td>1952-1952</td>\n",
       "      <td>1</td>\n",
       "      <td>-</td>\n",
       "      <td>-</td>\n",
       "      <td>-</td>\n",
       "      <td>-</td>\n",
       "      <td>-</td>\n",
       "      <td>-</td>\n",
       "      <td>-</td>\n",
       "      <td>-</td>\n",
       "      <td>http://stats.espncricinfo.com/ci/content/playe...</td>\n",
       "    </tr>\n",
       "    <tr>\n",
       "      <th>2992</th>\n",
       "      <td>HD Read (ENG)</td>\n",
       "      <td>1935-1935</td>\n",
       "      <td>1</td>\n",
       "      <td>-</td>\n",
       "      <td>-</td>\n",
       "      <td>-</td>\n",
       "      <td>-</td>\n",
       "      <td>-</td>\n",
       "      <td>-</td>\n",
       "      <td>-</td>\n",
       "      <td>-</td>\n",
       "      <td>http://stats.espncricinfo.com/ci/content/playe...</td>\n",
       "    </tr>\n",
       "    <tr>\n",
       "      <th>2993</th>\n",
       "      <td>CF Root (ENG)</td>\n",
       "      <td>1926-1926</td>\n",
       "      <td>3</td>\n",
       "      <td>-</td>\n",
       "      <td>-</td>\n",
       "      <td>-</td>\n",
       "      <td>-</td>\n",
       "      <td>-</td>\n",
       "      <td>-</td>\n",
       "      <td>-</td>\n",
       "      <td>-</td>\n",
       "      <td>http://stats.espncricinfo.com/ci/content/playe...</td>\n",
       "    </tr>\n",
       "    <tr>\n",
       "      <th>2994</th>\n",
       "      <td>Shahid Mahboob (PAK)</td>\n",
       "      <td>1989-1989</td>\n",
       "      <td>1</td>\n",
       "      <td>-</td>\n",
       "      <td>-</td>\n",
       "      <td>-</td>\n",
       "      <td>-</td>\n",
       "      <td>-</td>\n",
       "      <td>-</td>\n",
       "      <td>-</td>\n",
       "      <td>-</td>\n",
       "      <td>http://stats.espncricinfo.com/ci/content/playe...</td>\n",
       "    </tr>\n",
       "    <tr>\n",
       "      <th>2995</th>\n",
       "      <td>RC Shukla (INDIA)</td>\n",
       "      <td>1982-1982</td>\n",
       "      <td>1</td>\n",
       "      <td>-</td>\n",
       "      <td>-</td>\n",
       "      <td>-</td>\n",
       "      <td>-</td>\n",
       "      <td>-</td>\n",
       "      <td>-</td>\n",
       "      <td>-</td>\n",
       "      <td>-</td>\n",
       "      <td>http://stats.espncricinfo.com/ci/content/playe...</td>\n",
       "    </tr>\n",
       "    <tr>\n",
       "      <th>2996</th>\n",
       "      <td>CA Snedden (NZ)</td>\n",
       "      <td>1947-1947</td>\n",
       "      <td>1</td>\n",
       "      <td>-</td>\n",
       "      <td>-</td>\n",
       "      <td>-</td>\n",
       "      <td>-</td>\n",
       "      <td>-</td>\n",
       "      <td>-</td>\n",
       "      <td>-</td>\n",
       "      <td>-</td>\n",
       "      <td>http://stats.espncricinfo.com/ci/content/playe...</td>\n",
       "    </tr>\n",
       "    <tr>\n",
       "      <th>2997</th>\n",
       "      <td>VN Swamy (INDIA)</td>\n",
       "      <td>1955-1955</td>\n",
       "      <td>1</td>\n",
       "      <td>-</td>\n",
       "      <td>-</td>\n",
       "      <td>-</td>\n",
       "      <td>-</td>\n",
       "      <td>-</td>\n",
       "      <td>-</td>\n",
       "      <td>-</td>\n",
       "      <td>-</td>\n",
       "      <td>http://stats.espncricinfo.com/ci/content/playe...</td>\n",
       "    </tr>\n",
       "    <tr>\n",
       "      <th>2998</th>\n",
       "      <td>Usman Shinwari (PAK)</td>\n",
       "      <td>2019-2019</td>\n",
       "      <td>1</td>\n",
       "      <td>-</td>\n",
       "      <td>-</td>\n",
       "      <td>-</td>\n",
       "      <td>-</td>\n",
       "      <td>-</td>\n",
       "      <td>-</td>\n",
       "      <td>-</td>\n",
       "      <td>-</td>\n",
       "      <td>http://stats.espncricinfo.com/ci/content/playe...</td>\n",
       "    </tr>\n",
       "    <tr>\n",
       "      <th>2999</th>\n",
       "      <td>CM Willoughby (SA)</td>\n",
       "      <td>2003-2003</td>\n",
       "      <td>2</td>\n",
       "      <td>-</td>\n",
       "      <td>-</td>\n",
       "      <td>-</td>\n",
       "      <td>-</td>\n",
       "      <td>-</td>\n",
       "      <td>-</td>\n",
       "      <td>-</td>\n",
       "      <td>-</td>\n",
       "      <td>http://stats.espncricinfo.com/ci/content/playe...</td>\n",
       "    </tr>\n",
       "    <tr>\n",
       "      <th>3000</th>\n",
       "      <td>JW Wilson (AUS)</td>\n",
       "      <td>1956-1956</td>\n",
       "      <td>1</td>\n",
       "      <td>-</td>\n",
       "      <td>-</td>\n",
       "      <td>-</td>\n",
       "      <td>-</td>\n",
       "      <td>-</td>\n",
       "      <td>-</td>\n",
       "      <td>-</td>\n",
       "      <td>-</td>\n",
       "      <td>http://stats.espncricinfo.com/ci/content/playe...</td>\n",
       "    </tr>\n",
       "  </tbody>\n",
       "</table>\n",
       "</div>"
      ],
      "text/plain": [
       "                       Player       Span  Mat Inn NO Runs HS Avg 100 50  0  \\\n",
       "2981  Ali Hussain Rizvi (PAK)  1997-1997    1   -  -    -  -   -   -  -  -   \n",
       "2982           PJ Allan (AUS)  1965-1965    1   -  -    -  -   -   -  -  -   \n",
       "2983            JC Clay (ENG)  1935-1935    1   -  -    -  -   -   -  -  -   \n",
       "2984          DJ Cullen (AUS)  2006-2006    1   -  -    -  -   -   -  -  -   \n",
       "2985          HT Dani (INDIA)  1952-1952    1   -  -    -  -   -   -  -  -   \n",
       "2986      Farrukh Zaman (PAK)  1976-1976    1   -  -    -  -   -   -  -  -   \n",
       "2987           AB Howard (WI)  1972-1972    1   -  -    -  -   -   -  -  -   \n",
       "2988             A Khan (ENG)  2009-2009    1   -  -    -  -   -   -  -  -   \n",
       "2989       JCW MacBryan (ENG)  1924-1924    1   -  -    -  -   -   -  -  -   \n",
       "2990           LR Pierre (WI)  1948-1948    1   -  -    -  -   -   -  -  -   \n",
       "2991   V Rajindernath (INDIA)  1952-1952    1   -  -    -  -   -   -  -  -   \n",
       "2992            HD Read (ENG)  1935-1935    1   -  -    -  -   -   -  -  -   \n",
       "2993            CF Root (ENG)  1926-1926    3   -  -    -  -   -   -  -  -   \n",
       "2994     Shahid Mahboob (PAK)  1989-1989    1   -  -    -  -   -   -  -  -   \n",
       "2995        RC Shukla (INDIA)  1982-1982    1   -  -    -  -   -   -  -  -   \n",
       "2996          CA Snedden (NZ)  1947-1947    1   -  -    -  -   -   -  -  -   \n",
       "2997         VN Swamy (INDIA)  1955-1955    1   -  -    -  -   -   -  -  -   \n",
       "2998     Usman Shinwari (PAK)  2019-2019    1   -  -    -  -   -   -  -  -   \n",
       "2999       CM Willoughby (SA)  2003-2003    2   -  -    -  -   -   -  -  -   \n",
       "3000          JW Wilson (AUS)  1956-1956    1   -  -    -  -   -   -  -  -   \n",
       "\n",
       "                                         Player Profile  \n",
       "2981  http://stats.espncricinfo.com/ci/content/playe...  \n",
       "2982  http://stats.espncricinfo.com/ci/content/playe...  \n",
       "2983  http://stats.espncricinfo.com/ci/content/playe...  \n",
       "2984  http://stats.espncricinfo.com/ci/content/playe...  \n",
       "2985  http://stats.espncricinfo.com/ci/content/playe...  \n",
       "2986  http://stats.espncricinfo.com/ci/content/playe...  \n",
       "2987  http://stats.espncricinfo.com/ci/content/playe...  \n",
       "2988  http://stats.espncricinfo.com/ci/content/playe...  \n",
       "2989  http://stats.espncricinfo.com/ci/content/playe...  \n",
       "2990  http://stats.espncricinfo.com/ci/content/playe...  \n",
       "2991  http://stats.espncricinfo.com/ci/content/playe...  \n",
       "2992  http://stats.espncricinfo.com/ci/content/playe...  \n",
       "2993  http://stats.espncricinfo.com/ci/content/playe...  \n",
       "2994  http://stats.espncricinfo.com/ci/content/playe...  \n",
       "2995  http://stats.espncricinfo.com/ci/content/playe...  \n",
       "2996  http://stats.espncricinfo.com/ci/content/playe...  \n",
       "2997  http://stats.espncricinfo.com/ci/content/playe...  \n",
       "2998  http://stats.espncricinfo.com/ci/content/playe...  \n",
       "2999  http://stats.espncricinfo.com/ci/content/playe...  \n",
       "3000  http://stats.espncricinfo.com/ci/content/playe...  "
      ]
     },
     "execution_count": 6,
     "metadata": {},
     "output_type": "execute_result"
    }
   ],
   "source": [
    "# preview dataset\n",
    "raw_data.tail(20)"
   ]
  },
  {
   "cell_type": "code",
   "execution_count": 7,
   "metadata": {},
   "outputs": [
    {
     "data": {
      "text/html": [
       "<div>\n",
       "<style scoped>\n",
       "    .dataframe tbody tr th:only-of-type {\n",
       "        vertical-align: middle;\n",
       "    }\n",
       "\n",
       "    .dataframe tbody tr th {\n",
       "        vertical-align: top;\n",
       "    }\n",
       "\n",
       "    .dataframe thead th {\n",
       "        text-align: right;\n",
       "    }\n",
       "</style>\n",
       "<table border=\"1\" class=\"dataframe\">\n",
       "  <thead>\n",
       "    <tr style=\"text-align: right;\">\n",
       "      <th></th>\n",
       "      <th>Player</th>\n",
       "      <th>Span</th>\n",
       "      <th>Mat</th>\n",
       "      <th>Inn</th>\n",
       "      <th>NO</th>\n",
       "      <th>Runs</th>\n",
       "      <th>HS</th>\n",
       "      <th>Avg</th>\n",
       "      <th>100</th>\n",
       "      <th>50</th>\n",
       "      <th>0</th>\n",
       "      <th>Player Profile</th>\n",
       "    </tr>\n",
       "  </thead>\n",
       "  <tbody>\n",
       "    <tr>\n",
       "      <th>0</th>\n",
       "      <td>SR Tendulkar (INDIA)</td>\n",
       "      <td>1989-2013</td>\n",
       "      <td>200</td>\n",
       "      <td>329</td>\n",
       "      <td>33</td>\n",
       "      <td>15921</td>\n",
       "      <td>248*</td>\n",
       "      <td>53.78</td>\n",
       "      <td>51</td>\n",
       "      <td>68</td>\n",
       "      <td>14</td>\n",
       "      <td>http://stats.espncricinfo.com/ci/content/playe...</td>\n",
       "    </tr>\n",
       "    <tr>\n",
       "      <th>1</th>\n",
       "      <td>RT Ponting (AUS)</td>\n",
       "      <td>1995-2012</td>\n",
       "      <td>168</td>\n",
       "      <td>287</td>\n",
       "      <td>29</td>\n",
       "      <td>13378</td>\n",
       "      <td>257</td>\n",
       "      <td>51.85</td>\n",
       "      <td>41</td>\n",
       "      <td>62</td>\n",
       "      <td>17</td>\n",
       "      <td>http://stats.espncricinfo.com/ci/content/playe...</td>\n",
       "    </tr>\n",
       "    <tr>\n",
       "      <th>2</th>\n",
       "      <td>JH Kallis (ICC/SA)</td>\n",
       "      <td>1995-2013</td>\n",
       "      <td>166</td>\n",
       "      <td>280</td>\n",
       "      <td>40</td>\n",
       "      <td>13289</td>\n",
       "      <td>224</td>\n",
       "      <td>55.37</td>\n",
       "      <td>45</td>\n",
       "      <td>58</td>\n",
       "      <td>16</td>\n",
       "      <td>http://stats.espncricinfo.com/ci/content/playe...</td>\n",
       "    </tr>\n",
       "    <tr>\n",
       "      <th>3</th>\n",
       "      <td>R Dravid (ICC/INDIA)</td>\n",
       "      <td>1996-2012</td>\n",
       "      <td>164</td>\n",
       "      <td>286</td>\n",
       "      <td>32</td>\n",
       "      <td>13288</td>\n",
       "      <td>270</td>\n",
       "      <td>52.31</td>\n",
       "      <td>36</td>\n",
       "      <td>63</td>\n",
       "      <td>8</td>\n",
       "      <td>http://stats.espncricinfo.com/ci/content/playe...</td>\n",
       "    </tr>\n",
       "    <tr>\n",
       "      <th>4</th>\n",
       "      <td>AN Cook (ENG)</td>\n",
       "      <td>2006-2018</td>\n",
       "      <td>161</td>\n",
       "      <td>291</td>\n",
       "      <td>16</td>\n",
       "      <td>12472</td>\n",
       "      <td>294</td>\n",
       "      <td>45.35</td>\n",
       "      <td>33</td>\n",
       "      <td>57</td>\n",
       "      <td>9</td>\n",
       "      <td>http://stats.espncricinfo.com/ci/content/playe...</td>\n",
       "    </tr>\n",
       "  </tbody>\n",
       "</table>\n",
       "</div>"
      ],
      "text/plain": [
       "                 Player       Span  Mat  Inn  NO   Runs    HS    Avg 100  50  \\\n",
       "0  SR Tendulkar (INDIA)  1989-2013  200  329  33  15921  248*  53.78  51  68   \n",
       "1      RT Ponting (AUS)  1995-2012  168  287  29  13378   257  51.85  41  62   \n",
       "2    JH Kallis (ICC/SA)  1995-2013  166  280  40  13289   224  55.37  45  58   \n",
       "3  R Dravid (ICC/INDIA)  1996-2012  164  286  32  13288   270  52.31  36  63   \n",
       "4         AN Cook (ENG)  2006-2018  161  291  16  12472   294  45.35  33  57   \n",
       "\n",
       "    0                                     Player Profile  \n",
       "0  14  http://stats.espncricinfo.com/ci/content/playe...  \n",
       "1  17  http://stats.espncricinfo.com/ci/content/playe...  \n",
       "2  16  http://stats.espncricinfo.com/ci/content/playe...  \n",
       "3   8  http://stats.espncricinfo.com/ci/content/playe...  \n",
       "4   9  http://stats.espncricinfo.com/ci/content/playe...  "
      ]
     },
     "execution_count": 7,
     "metadata": {},
     "output_type": "execute_result"
    }
   ],
   "source": [
    "raw_data.head()"
   ]
  },
  {
   "cell_type": "markdown",
   "metadata": {},
   "source": [
    "### These 20 players have no appearance in International Test cricket matches so removing them will be sensible for this EDA analysis"
   ]
  },
  {
   "cell_type": "code",
   "execution_count": 8,
   "metadata": {},
   "outputs": [],
   "source": [
    "df  = raw_data[0:2981]"
   ]
  },
  {
   "cell_type": "code",
   "execution_count": 9,
   "metadata": {},
   "outputs": [
    {
     "data": {
      "text/html": [
       "<div>\n",
       "<style scoped>\n",
       "    .dataframe tbody tr th:only-of-type {\n",
       "        vertical-align: middle;\n",
       "    }\n",
       "\n",
       "    .dataframe tbody tr th {\n",
       "        vertical-align: top;\n",
       "    }\n",
       "\n",
       "    .dataframe thead th {\n",
       "        text-align: right;\n",
       "    }\n",
       "</style>\n",
       "<table border=\"1\" class=\"dataframe\">\n",
       "  <thead>\n",
       "    <tr style=\"text-align: right;\">\n",
       "      <th></th>\n",
       "      <th>Player</th>\n",
       "      <th>Span</th>\n",
       "      <th>Mat</th>\n",
       "      <th>Inn</th>\n",
       "      <th>NO</th>\n",
       "      <th>Runs</th>\n",
       "      <th>HS</th>\n",
       "      <th>Avg</th>\n",
       "      <th>100</th>\n",
       "      <th>50</th>\n",
       "      <th>0</th>\n",
       "      <th>Player Profile</th>\n",
       "    </tr>\n",
       "  </thead>\n",
       "  <tbody>\n",
       "    <tr>\n",
       "      <th>0</th>\n",
       "      <td>SR Tendulkar (INDIA)</td>\n",
       "      <td>1989-2013</td>\n",
       "      <td>200</td>\n",
       "      <td>329</td>\n",
       "      <td>33</td>\n",
       "      <td>15921</td>\n",
       "      <td>248*</td>\n",
       "      <td>53.78</td>\n",
       "      <td>51</td>\n",
       "      <td>68</td>\n",
       "      <td>14</td>\n",
       "      <td>http://stats.espncricinfo.com/ci/content/playe...</td>\n",
       "    </tr>\n",
       "    <tr>\n",
       "      <th>1</th>\n",
       "      <td>RT Ponting (AUS)</td>\n",
       "      <td>1995-2012</td>\n",
       "      <td>168</td>\n",
       "      <td>287</td>\n",
       "      <td>29</td>\n",
       "      <td>13378</td>\n",
       "      <td>257</td>\n",
       "      <td>51.85</td>\n",
       "      <td>41</td>\n",
       "      <td>62</td>\n",
       "      <td>17</td>\n",
       "      <td>http://stats.espncricinfo.com/ci/content/playe...</td>\n",
       "    </tr>\n",
       "    <tr>\n",
       "      <th>2</th>\n",
       "      <td>JH Kallis (ICC/SA)</td>\n",
       "      <td>1995-2013</td>\n",
       "      <td>166</td>\n",
       "      <td>280</td>\n",
       "      <td>40</td>\n",
       "      <td>13289</td>\n",
       "      <td>224</td>\n",
       "      <td>55.37</td>\n",
       "      <td>45</td>\n",
       "      <td>58</td>\n",
       "      <td>16</td>\n",
       "      <td>http://stats.espncricinfo.com/ci/content/playe...</td>\n",
       "    </tr>\n",
       "    <tr>\n",
       "      <th>3</th>\n",
       "      <td>R Dravid (ICC/INDIA)</td>\n",
       "      <td>1996-2012</td>\n",
       "      <td>164</td>\n",
       "      <td>286</td>\n",
       "      <td>32</td>\n",
       "      <td>13288</td>\n",
       "      <td>270</td>\n",
       "      <td>52.31</td>\n",
       "      <td>36</td>\n",
       "      <td>63</td>\n",
       "      <td>8</td>\n",
       "      <td>http://stats.espncricinfo.com/ci/content/playe...</td>\n",
       "    </tr>\n",
       "    <tr>\n",
       "      <th>4</th>\n",
       "      <td>AN Cook (ENG)</td>\n",
       "      <td>2006-2018</td>\n",
       "      <td>161</td>\n",
       "      <td>291</td>\n",
       "      <td>16</td>\n",
       "      <td>12472</td>\n",
       "      <td>294</td>\n",
       "      <td>45.35</td>\n",
       "      <td>33</td>\n",
       "      <td>57</td>\n",
       "      <td>9</td>\n",
       "      <td>http://stats.espncricinfo.com/ci/content/playe...</td>\n",
       "    </tr>\n",
       "  </tbody>\n",
       "</table>\n",
       "</div>"
      ],
      "text/plain": [
       "                 Player       Span  Mat  Inn  NO   Runs    HS    Avg 100  50  \\\n",
       "0  SR Tendulkar (INDIA)  1989-2013  200  329  33  15921  248*  53.78  51  68   \n",
       "1      RT Ponting (AUS)  1995-2012  168  287  29  13378   257  51.85  41  62   \n",
       "2    JH Kallis (ICC/SA)  1995-2013  166  280  40  13289   224  55.37  45  58   \n",
       "3  R Dravid (ICC/INDIA)  1996-2012  164  286  32  13288   270  52.31  36  63   \n",
       "4         AN Cook (ENG)  2006-2018  161  291  16  12472   294  45.35  33  57   \n",
       "\n",
       "    0                                     Player Profile  \n",
       "0  14  http://stats.espncricinfo.com/ci/content/playe...  \n",
       "1  17  http://stats.espncricinfo.com/ci/content/playe...  \n",
       "2  16  http://stats.espncricinfo.com/ci/content/playe...  \n",
       "3   8  http://stats.espncricinfo.com/ci/content/playe...  \n",
       "4   9  http://stats.espncricinfo.com/ci/content/playe...  "
      ]
     },
     "execution_count": 9,
     "metadata": {},
     "output_type": "execute_result"
    }
   ],
   "source": [
    "df.head()"
   ]
  },
  {
   "cell_type": "code",
   "execution_count": 10,
   "metadata": {},
   "outputs": [
    {
     "data": {
      "text/html": [
       "<div>\n",
       "<style scoped>\n",
       "    .dataframe tbody tr th:only-of-type {\n",
       "        vertical-align: middle;\n",
       "    }\n",
       "\n",
       "    .dataframe tbody tr th {\n",
       "        vertical-align: top;\n",
       "    }\n",
       "\n",
       "    .dataframe thead th {\n",
       "        text-align: right;\n",
       "    }\n",
       "</style>\n",
       "<table border=\"1\" class=\"dataframe\">\n",
       "  <thead>\n",
       "    <tr style=\"text-align: right;\">\n",
       "      <th></th>\n",
       "      <th>Player</th>\n",
       "      <th>Span</th>\n",
       "      <th>Mat</th>\n",
       "      <th>Inn</th>\n",
       "      <th>NO</th>\n",
       "      <th>Runs</th>\n",
       "      <th>HS</th>\n",
       "      <th>Avg</th>\n",
       "      <th>100</th>\n",
       "      <th>50</th>\n",
       "      <th>0</th>\n",
       "      <th>Player Profile</th>\n",
       "    </tr>\n",
       "  </thead>\n",
       "  <tbody>\n",
       "    <tr>\n",
       "      <th>2976</th>\n",
       "      <td>M Venkataramana (INDIA)</td>\n",
       "      <td>1989-1989</td>\n",
       "      <td>1</td>\n",
       "      <td>2</td>\n",
       "      <td>2</td>\n",
       "      <td>0</td>\n",
       "      <td>0*</td>\n",
       "      <td>-</td>\n",
       "      <td>0</td>\n",
       "      <td>0</td>\n",
       "      <td>0</td>\n",
       "      <td>http://stats.espncricinfo.com/ci/content/playe...</td>\n",
       "    </tr>\n",
       "    <tr>\n",
       "      <th>2977</th>\n",
       "      <td>DW White (ENG)</td>\n",
       "      <td>1961-1962</td>\n",
       "      <td>2</td>\n",
       "      <td>2</td>\n",
       "      <td>0</td>\n",
       "      <td>0</td>\n",
       "      <td>0</td>\n",
       "      <td>0</td>\n",
       "      <td>0</td>\n",
       "      <td>0</td>\n",
       "      <td>2</td>\n",
       "      <td>http://stats.espncricinfo.com/ci/content/playe...</td>\n",
       "    </tr>\n",
       "    <tr>\n",
       "      <th>2978</th>\n",
       "      <td>P Wilson (AUS)</td>\n",
       "      <td>1998-1998</td>\n",
       "      <td>1</td>\n",
       "      <td>2</td>\n",
       "      <td>2</td>\n",
       "      <td>0</td>\n",
       "      <td>0*</td>\n",
       "      <td>-</td>\n",
       "      <td>0</td>\n",
       "      <td>0</td>\n",
       "      <td>0</td>\n",
       "      <td>http://stats.espncricinfo.com/ci/content/playe...</td>\n",
       "    </tr>\n",
       "    <tr>\n",
       "      <th>2979</th>\n",
       "      <td>CS Wimble (SA)</td>\n",
       "      <td>1892-1892</td>\n",
       "      <td>1</td>\n",
       "      <td>2</td>\n",
       "      <td>0</td>\n",
       "      <td>0</td>\n",
       "      <td>0</td>\n",
       "      <td>0</td>\n",
       "      <td>0</td>\n",
       "      <td>0</td>\n",
       "      <td>2</td>\n",
       "      <td>http://stats.espncricinfo.com/ci/content/playe...</td>\n",
       "    </tr>\n",
       "    <tr>\n",
       "      <th>2980</th>\n",
       "      <td>Zahir Khan (AFG)</td>\n",
       "      <td>2019-2019</td>\n",
       "      <td>2</td>\n",
       "      <td>4</td>\n",
       "      <td>3</td>\n",
       "      <td>0</td>\n",
       "      <td>0*</td>\n",
       "      <td>0</td>\n",
       "      <td>0</td>\n",
       "      <td>0</td>\n",
       "      <td>1</td>\n",
       "      <td>http://stats.espncricinfo.com/ci/content/playe...</td>\n",
       "    </tr>\n",
       "  </tbody>\n",
       "</table>\n",
       "</div>"
      ],
      "text/plain": [
       "                       Player       Span  Mat Inn NO Runs  HS Avg 100 50  0  \\\n",
       "2976  M Venkataramana (INDIA)  1989-1989    1   2  2    0  0*   -   0  0  0   \n",
       "2977           DW White (ENG)  1961-1962    2   2  0    0   0   0   0  0  2   \n",
       "2978           P Wilson (AUS)  1998-1998    1   2  2    0  0*   -   0  0  0   \n",
       "2979           CS Wimble (SA)  1892-1892    1   2  0    0   0   0   0  0  2   \n",
       "2980         Zahir Khan (AFG)  2019-2019    2   4  3    0  0*   0   0  0  1   \n",
       "\n",
       "                                         Player Profile  \n",
       "2976  http://stats.espncricinfo.com/ci/content/playe...  \n",
       "2977  http://stats.espncricinfo.com/ci/content/playe...  \n",
       "2978  http://stats.espncricinfo.com/ci/content/playe...  \n",
       "2979  http://stats.espncricinfo.com/ci/content/playe...  \n",
       "2980  http://stats.espncricinfo.com/ci/content/playe...  "
      ]
     },
     "execution_count": 10,
     "metadata": {},
     "output_type": "execute_result"
    }
   ],
   "source": [
    "df.tail()"
   ]
  },
  {
   "cell_type": "code",
   "execution_count": 11,
   "metadata": {},
   "outputs": [
    {
     "name": "stdout",
     "output_type": "stream",
     "text": [
      "<class 'pandas.core.frame.DataFrame'>\n",
      "RangeIndex: 2981 entries, 0 to 2980\n",
      "Data columns (total 12 columns):\n",
      "Player            2981 non-null object\n",
      "Span              2981 non-null object\n",
      "Mat               2981 non-null int64\n",
      "Inn               2981 non-null object\n",
      "NO                2981 non-null object\n",
      "Runs              2981 non-null object\n",
      "HS                2981 non-null object\n",
      "Avg               2981 non-null object\n",
      "100               2981 non-null object\n",
      "50                2981 non-null object\n",
      "0                 2981 non-null object\n",
      "Player Profile    2981 non-null object\n",
      "dtypes: int64(1), object(11)\n",
      "memory usage: 279.5+ KB\n"
     ]
    }
   ],
   "source": [
    "# summary of dataset\n",
    "df.info()"
   ]
  },
  {
   "cell_type": "code",
   "execution_count": 12,
   "metadata": {},
   "outputs": [
    {
     "data": {
      "text/html": [
       "<div>\n",
       "<style scoped>\n",
       "    .dataframe tbody tr th:only-of-type {\n",
       "        vertical-align: middle;\n",
       "    }\n",
       "\n",
       "    .dataframe tbody tr th {\n",
       "        vertical-align: top;\n",
       "    }\n",
       "\n",
       "    .dataframe thead th {\n",
       "        text-align: right;\n",
       "    }\n",
       "</style>\n",
       "<table border=\"1\" class=\"dataframe\">\n",
       "  <thead>\n",
       "    <tr style=\"text-align: right;\">\n",
       "      <th></th>\n",
       "      <th>Player</th>\n",
       "      <th>Span</th>\n",
       "      <th>Mat</th>\n",
       "      <th>Inn</th>\n",
       "      <th>NO</th>\n",
       "      <th>Runs</th>\n",
       "      <th>HS</th>\n",
       "      <th>Avg</th>\n",
       "      <th>100</th>\n",
       "      <th>50</th>\n",
       "      <th>0</th>\n",
       "      <th>Player Profile</th>\n",
       "    </tr>\n",
       "  </thead>\n",
       "  <tbody>\n",
       "    <tr>\n",
       "      <th>0</th>\n",
       "      <td>SR Tendulkar (INDIA)</td>\n",
       "      <td>1989-2013</td>\n",
       "      <td>200</td>\n",
       "      <td>329</td>\n",
       "      <td>33</td>\n",
       "      <td>15921</td>\n",
       "      <td>248*</td>\n",
       "      <td>53.78</td>\n",
       "      <td>51</td>\n",
       "      <td>68</td>\n",
       "      <td>14</td>\n",
       "      <td>http://stats.espncricinfo.com/ci/content/playe...</td>\n",
       "    </tr>\n",
       "    <tr>\n",
       "      <th>1</th>\n",
       "      <td>RT Ponting (AUS)</td>\n",
       "      <td>1995-2012</td>\n",
       "      <td>168</td>\n",
       "      <td>287</td>\n",
       "      <td>29</td>\n",
       "      <td>13378</td>\n",
       "      <td>257</td>\n",
       "      <td>51.85</td>\n",
       "      <td>41</td>\n",
       "      <td>62</td>\n",
       "      <td>17</td>\n",
       "      <td>http://stats.espncricinfo.com/ci/content/playe...</td>\n",
       "    </tr>\n",
       "    <tr>\n",
       "      <th>2</th>\n",
       "      <td>JH Kallis (ICC/SA)</td>\n",
       "      <td>1995-2013</td>\n",
       "      <td>166</td>\n",
       "      <td>280</td>\n",
       "      <td>40</td>\n",
       "      <td>13289</td>\n",
       "      <td>224</td>\n",
       "      <td>55.37</td>\n",
       "      <td>45</td>\n",
       "      <td>58</td>\n",
       "      <td>16</td>\n",
       "      <td>http://stats.espncricinfo.com/ci/content/playe...</td>\n",
       "    </tr>\n",
       "    <tr>\n",
       "      <th>3</th>\n",
       "      <td>R Dravid (ICC/INDIA)</td>\n",
       "      <td>1996-2012</td>\n",
       "      <td>164</td>\n",
       "      <td>286</td>\n",
       "      <td>32</td>\n",
       "      <td>13288</td>\n",
       "      <td>270</td>\n",
       "      <td>52.31</td>\n",
       "      <td>36</td>\n",
       "      <td>63</td>\n",
       "      <td>8</td>\n",
       "      <td>http://stats.espncricinfo.com/ci/content/playe...</td>\n",
       "    </tr>\n",
       "    <tr>\n",
       "      <th>4</th>\n",
       "      <td>AN Cook (ENG)</td>\n",
       "      <td>2006-2018</td>\n",
       "      <td>161</td>\n",
       "      <td>291</td>\n",
       "      <td>16</td>\n",
       "      <td>12472</td>\n",
       "      <td>294</td>\n",
       "      <td>45.35</td>\n",
       "      <td>33</td>\n",
       "      <td>57</td>\n",
       "      <td>9</td>\n",
       "      <td>http://stats.espncricinfo.com/ci/content/playe...</td>\n",
       "    </tr>\n",
       "  </tbody>\n",
       "</table>\n",
       "</div>"
      ],
      "text/plain": [
       "                 Player       Span  Mat  Inn  NO   Runs    HS    Avg 100  50  \\\n",
       "0  SR Tendulkar (INDIA)  1989-2013  200  329  33  15921  248*  53.78  51  68   \n",
       "1      RT Ponting (AUS)  1995-2012  168  287  29  13378   257  51.85  41  62   \n",
       "2    JH Kallis (ICC/SA)  1995-2013  166  280  40  13289   224  55.37  45  58   \n",
       "3  R Dravid (ICC/INDIA)  1996-2012  164  286  32  13288   270  52.31  36  63   \n",
       "4         AN Cook (ENG)  2006-2018  161  291  16  12472   294  45.35  33  57   \n",
       "\n",
       "    0                                     Player Profile  \n",
       "0  14  http://stats.espncricinfo.com/ci/content/playe...  \n",
       "1  17  http://stats.espncricinfo.com/ci/content/playe...  \n",
       "2  16  http://stats.espncricinfo.com/ci/content/playe...  \n",
       "3   8  http://stats.espncricinfo.com/ci/content/playe...  \n",
       "4   9  http://stats.espncricinfo.com/ci/content/playe...  "
      ]
     },
     "execution_count": 12,
     "metadata": {},
     "output_type": "execute_result"
    }
   ],
   "source": [
    "df.head()"
   ]
  },
  {
   "cell_type": "code",
   "execution_count": 13,
   "metadata": {},
   "outputs": [],
   "source": [
    "hs = df.HS"
   ]
  },
  {
   "cell_type": "code",
   "execution_count": 14,
   "metadata": {},
   "outputs": [
    {
     "data": {
      "text/plain": [
       "list"
      ]
     },
     "execution_count": 14,
     "metadata": {},
     "output_type": "execute_result"
    }
   ],
   "source": [
    "hs = list(hs)\n",
    "type(hs)\n"
   ]
  },
  {
   "cell_type": "code",
   "execution_count": 15,
   "metadata": {},
   "outputs": [],
   "source": [
    "for i in range(0,len(hs)):\n",
    "    temp = str(hs[i]).replace('*','')\n",
    "    temp = int(temp)\n",
    "    hs[i] = temp"
   ]
  },
  {
   "cell_type": "code",
   "execution_count": 16,
   "metadata": {},
   "outputs": [
    {
     "name": "stdout",
     "output_type": "stream",
     "text": [
      "[248, 257, 224, 270, 294, 319, 400, 203, 374, 205, 200, 236, 313, 311, 277, 333, 280, 329, 281, 278, 329, 380, 319, 291, 190, 215, 227, 246, 365, 153, 185, 235, 250, 182, 226, 223, 334, 242, 184, 200, 254, 275, 336, 333, 239, 254, 274, 239, 290, 247, 335, 177, 334, 340, 364, 166, 256, 200, 302, 242, 267, 195, 256, 199, 228, 205, 222, 194, 302, 291, 219, 278, 237, 207, 233, 206, 197, 160, 204, 125, 249, 193, 231, 299, 211, 250, 196, 185, 219, 163, 210, 161, 208, 310, 135, 274, 258, 224, 311, 232, 171, 222, 142, 194, 275, 204, 285, 140, 137, 205, 207, 196, 213, 207, 165, 187, 135, 138, 161, 169, 206, 173, 206, 175, 219, 157, 206, 231, 188, 131, 188, 167, 167, 167, 260, 337, 217, 261, 164, 167, 226, 206, 136, 137, 220, 258, 111, 176, 135, 199, 162, 224, 201, 132, 216, 223, 205, 262, 148, 175, 264, 206, 205, 218, 212, 189, 201, 176, 142, 191, 178, 172, 139, 158, 211, 154, 216, 169, 226, 260, 189, 201, 143, 214, 169, 99, 151, 142, 170, 209, 100, 198, 177, 113, 208, 172, 259, 236, 231, 147, 176, 186, 166, 257, 174, 208, 110, 159, 103, 138, 122, 205, 125, 207, 203, 179, 155, 181, 196, 145, 187, 102, 268, 232, 137, 146, 190, 230, 200, 203, 119, 129, 174, 181, 112, 158, 222, 121, 213, 189, 166, 118, 225, 195, 214, 117, 147, 258, 201, 112, 110, 158, 130, 174, 193, 107, 143, 173, 219, 255, 104, 149, 134, 128, 124, 154, 179, 190, 239, 161, 134, 181, 201, 121, 182, 274, 111, 115, 158, 203, 122, 113, 164, 270, 135, 160, 212, 170, 154, 266, 142, 143, 231, 166, 139, 182, 97, 209, 123, 123, 307, 126, 129, 302, 106, 218, 267, 146, 173, 134, 163, 199, 212, 137, 133, 91, 127, 201, 175, 113, 236, 108, 161, 134, 212, 132, 140, 174, 169, 202, 245, 128, 122, 131, 83, 130, 100, 171, 149, 113, 123, 173, 102, 92, 156, 177, 150, 111, 157, 133, 169, 108, 173, 149, 204, 165, 119, 177, 156, 75, 162, 127, 74, 80, 137, 146, 144, 188, 77, 162, 138, 178, 205, 214, 162, 127, 118, 108, 140, 128, 175, 120, 127, 206, 174, 170, 120, 153, 243, 160, 117, 89, 118, 210, 156, 147, 121, 185, 138, 99, 170, 159, 269, 266, 162, 64, 84, 125, 91, 152, 53, 65, 152, 147, 59, 117, 144, 166, 122, 103, 155, 156, 201, 157, 150, 85, 143, 85, 124, 112, 127, 109, 203, 140, 92, 224, 168, 124, 80, 110, 100, 106, 180, 146, 85, 201, 143, 183, 131, 127, 180, 92, 109, 73, 189, 164, 83, 201, 138, 116, 99, 67, 181, 76, 101, 90, 161, 117, 75, 123, 94, 144, 190, 201, 153, 98, 143, 95, 104, 99, 100, 146, 136, 185, 182, 102, 128, 81, 109, 199, 100, 119, 170, 128, 51, 97, 138, 119, 137, 140, 89, 182, 109, 139, 122, 94, 117, 102, 114, 132, 129, 170, 114, 109, 135, 227, 161, 119, 234, 189, 106, 102, 166, 111, 149, 91, 121, 90, 105, 100, 74, 95, 72, 61, 103, 129, 47, 93, 81, 109, 80, 45, 76, 103, 129, 110, 110, 136, 77, 108, 173, 173, 97, 122, 175, 104, 121, 137, 150, 176, 192, 39, 133, 74, 141, 115, 106, 136, 119, 108, 120, 147, 79, 209, 149, 76, 40, 160, 42, 45, 30, 88, 110, 71, 153, 65, 64, 93, 101, 121, 219, 112, 143, 123, 88, 101, 86, 73, 140, 211, 73, 84, 150, 136, 124, 168, 107, 74, 189, 122, 111, 74, 41, 70, 92, 89, 133, 325, 116, 118, 64, 72, 114, 243, 147, 62, 121, 59, 75, 49, 77, 83, 154, 103, 106, 65, 136, 70, 65, 28, 106, 93, 96, 83, 101, 92, 120, 154, 50, 127, 149, 146, 121, 66, 88, 127, 99, 137, 112, 122, 140, 93, 114, 42, 189, 74, 79, 85, 66, 111, 91, 74, 102, 77, 192, 250, 146, 152, 71, 117, 221, 92, 73, 105, 120, 136, 68, 163, 91, 101, 171, 159, 48, 122, 64, 101, 132, 147, 94, 49, 89, 126, 108, 112, 37, 79, 97, 134, 93, 107, 89, 134, 82, 140, 83, 136, 117, 113, 99, 79, 128, 109, 137, 45, 138, 57, 80, 109, 113, 130, 32, 117, 91, 63, 105, 105, 71, 116, 143, 42, 73, 49, 101, 63, 38, 106, 60, 66, 85, 46, 88, 76, 104, 95, 64, 50, 117, 59, 111, 139, 66, 37, 160, 94, 84, 85, 61, 87, 63, 114, 68, 184, 90, 48, 117, 93, 94, 104, 182, 148, 132, 60, 103, 92, 52, 163, 60, 112, 108, 92, 68, 78, 75, 60, 74, 287, 84, 148, 90, 94, 64, 62, 70, 93, 67, 34, 78, 85, 82, 206, 120, 125, 65, 72, 96, 143, 91, 94, 112, 70, 109, 46, 88, 104, 47, 72, 117, 125, 107, 50, 72, 51, 101, 47, 119, 109, 63, 214, 124, 43, 56, 83, 90, 47, 116, 163, 102, 61, 152, 74, 68, 83, 76, 107, 108, 118, 145, 54, 56, 97, 60, 60, 124, 56, 40, 121, 128, 125, 90, 43, 140, 99, 112, 84, 203, 96, 210, 76, 88, 64, 104, 25, 49, 117, 42, 123, 76, 98, 116, 101, 90, 158, 66, 119, 64, 92, 76, 47, 85, 164, 38, 124, 100, 85, 140, 74, 111, 66, 111, 53, 84, 57, 46, 125, 104, 64, 84, 45, 125, 78, 106, 59, 116, 99, 115, 136, 90, 51, 50, 118, 96, 63, 102, 81, 64, 82, 39, 33, 25, 74, 126, 102, 52, 66, 60, 72, 56, 87, 43, 112, 101, 87, 131, 83, 115, 80, 75, 67, 103, 104, 92, 100, 59, 37, 100, 85, 96, 100, 108, 63, 74, 47, 71, 65, 56, 107, 110, 36, 61, 107, 66, 100, 43, 39, 95, 127, 78, 52, 73, 54, 60, 45, 47, 101, 99, 30, 54, 92, 102, 91, 64, 90, 32, 68, 67, 79, 49, 87, 66, 95, 118, 55, 65, 47, 60, 91, 42, 63, 101, 55, 136, 98, 53, 303, 61, 39, 78, 125, 50, 61, 103, 46, 50, 36, 45, 70, 44, 35, 29, 55, 67, 102, 53, 70, 88, 35, 71, 47, 56, 90, 78, 45, 42, 92, 45, 102, 111, 48, 92, 61, 57, 52, 88, 81, 43, 62, 69, 48, 47, 60, 76, 60, 49, 74, 100, 69, 48, 95, 46, 164, 44, 126, 71, 65, 51, 104, 31, 34, 35, 65, 127, 112, 40, 68, 107, 96, 71, 62, 133, 41, 33, 40, 34, 88, 102, 83, 101, 61, 29, 174, 128, 201, 81, 105, 56, 88, 50, 73, 35, 31, 76, 72, 59, 66, 53, 50, 39, 71, 106, 52, 82, 52, 101, 107, 83, 57, 84, 61, 196, 55, 73, 72, 102, 68, 98, 47, 52, 48, 51, 63, 65, 55, 77, 51, 61, 34, 41, 57, 109, 45, 78, 28, 109, 133, 104, 84, 35, 93, 61, 56, 58, 117, 92, 62, 49, 78, 102, 124, 105, 53, 64, 76, 29, 63, 95, 34, 121, 37, 88, 65, 45, 53, 107, 46, 40, 59, 69, 75, 86, 36, 37, 57, 44, 88, 45, 118, 55, 57, 69, 103, 70, 80, 59, 56, 50, 84, 65, 166, 109, 42, 64, 72, 41, 129, 65, 124, 168, 92, 39, 66, 83, 55, 43, 39, 50, 66, 86, 52, 68, 62, 68, 92, 106, 50, 85, 83, 73, 59, 115, 38, 50, 70, 65, 71, 117, 31, 56, 165, 42, 29, 55, 63, 134, 96, 42, 31, 152, 29, 24, 68, 48, 39, 87, 74, 100, 80, 46, 52, 24, 37, 65, 22, 41, 93, 50, 99, 67, 68, 85, 104, 49, 48, 72, 48, 42, 52, 54, 61, 142, 80, 43, 69, 46, 55, 40, 67, 66, 95, 77, 92, 26, 83, 82, 81, 119, 31, 55, 50, 52, 120, 48, 43, 50, 95, 51, 82, 55, 71, 52, 62, 78, 44, 59, 61, 42, 53, 53, 48, 45, 39, 50, 31, 76, 74, 38, 37, 80, 37, 52, 68, 39, 48, 33, 34, 42, 44, 88, 104, 134, 26, 66, 75, 30, 69, 49, 77, 50, 41, 54, 54, 81, 40, 44, 75, 20, 63, 102, 39, 33, 16, 36, 45, 98, 57, 78, 40, 45, 55, 59, 94, 50, 87, 89, 40, 42, 64, 105, 57, 105, 122, 47, 72, 54, 31, 79, 73, 108, 50, 63, 68, 105, 24, 53, 27, 21, 105, 33, 36, 69, 45, 43, 110, 21, 24, 35, 31, 25, 78, 47, 56, 69, 25, 62, 70, 36, 55, 30, 122, 111, 56, 43, 69, 137, 25, 35, 54, 39, 35, 107, 51, 116, 73, 60, 57, 85, 57, 41, 47, 48, 30, 38, 52, 22, 82, 43, 35, 58, 44, 62, 113, 25, 44, 81, 75, 75, 33, 115, 107, 57, 69, 39, 40, 118, 91, 48, 36, 94, 48, 49, 77, 33, 35, 70, 23, 140, 55, 64, 39, 83, 29, 59, 50, 45, 53, 32, 36, 39, 36, 80, 53, 51, 22, 28, 60, 66, 75, 48, 42, 65, 43, 39, 38, 38, 40, 64, 87, 55, 27, 45, 39, 50, 36, 24, 82, 31, 22, 46, 62, 52, 45, 71, 21, 29, 114, 107, 56, 41, 30, 34, 41, 47, 50, 43, 29, 77, 14, 37, 41, 57, 48, 83, 61, 55, 64, 64, 33, 40, 35, 27, 48, 24, 76, 43, 24, 56, 17, 45, 29, 49, 84, 60, 56, 44, 40, 29, 25, 49, 20, 50, 67, 32, 67, 39, 84, 15, 28, 56, 57, 52, 46, 26, 24, 46, 37, 47, 40, 25, 20, 59, 45, 41, 36, 78, 69, 38, 71, 43, 60, 41, 59, 35, 51, 52, 12, 30, 24, 55, 17, 24, 62, 39, 67, 20, 46, 43, 57, 69, 27, 39, 34, 25, 38, 27, 35, 21, 36, 41, 30, 28, 29, 44, 64, 49, 24, 19, 20, 75, 51, 85, 17, 33, 25, 34, 42, 22, 25, 72, 46, 112, 76, 28, 57, 48, 16, 65, 29, 40, 56, 65, 40, 43, 54, 33, 43, 29, 38, 71, 43, 26, 43, 32, 68, 27, 45, 47, 18, 54, 30, 19, 35, 51, 45, 30, 30, 62, 33, 61, 29, 31, 45, 67, 36, 35, 51, 20, 26, 53, 64, 42, 27, 28, 31, 46, 41, 38, 49, 43, 60, 26, 34, 64, 15, 78, 80, 33, 27, 48, 33, 23, 32, 33, 50, 36, 49, 26, 23, 60, 30, 31, 42, 49, 64, 40, 23, 50, 33, 55, 62, 40, 31, 47, 50, 96, 38, 17, 31, 48, 38, 28, 31, 69, 15, 26, 53, 50, 30, 25, 37, 39, 41, 29, 22, 13, 50, 35, 24, 55, 22, 18, 23, 48, 32, 48, 22, 45, 35, 74, 28, 29, 34, 44, 40, 18, 40, 28, 41, 37, 23, 43, 28, 24, 77, 24, 88, 41, 35, 35, 45, 64, 29, 25, 35, 23, 41, 20, 25, 24, 47, 14, 36, 54, 66, 34, 56, 60, 36, 54, 44, 25, 19, 29, 31, 47, 33, 25, 59, 22, 41, 19, 30, 31, 70, 34, 21, 78, 52, 67, 56, 80, 55, 35, 29, 47, 53, 27, 33, 52, 20, 33, 42, 47, 39, 49, 19, 43, 32, 36, 19, 26, 29, 29, 23, 27, 17, 13, 29, 20, 40, 15, 56, 35, 42, 28, 28, 45, 28, 41, 26, 33, 26, 22, 15, 19, 39, 19, 73, 13, 37, 20, 37, 48, 31, 24, 18, 30, 23, 50, 32, 32, 26, 15, 27, 36, 32, 32, 60, 29, 57, 31, 32, 37, 19, 26, 13, 35, 26, 19, 31, 33, 23, 40, 39, 50, 30, 63, 17, 21, 33, 13, 31, 39, 23, 33, 57, 25, 14, 41, 23, 35, 39, 14, 12, 35, 25, 32, 33, 21, 27, 22, 30, 45, 40, 39, 27, 39, 17, 35, 60, 37, 25, 32, 53, 30, 56, 36, 15, 19, 19, 30, 32, 29, 19, 32, 37, 42, 31, 16, 22, 37, 14, 42, 33, 33, 26, 26, 12, 43, 26, 58, 34, 32, 38, 15, 30, 11, 20, 33, 21, 13, 28, 26, 20, 52, 15, 20, 13, 15, 22, 28, 38, 58, 32, 35, 50, 15, 25, 42, 25, 32, 25, 24, 51, 38, 35, 51, 32, 16, 35, 26, 38, 28, 37, 30, 42, 14, 20, 31, 31, 13, 34, 21, 30, 16, 18, 17, 28, 38, 54, 17, 32, 29, 34, 34, 27, 47, 30, 15, 30, 31, 33, 39, 22, 33, 25, 27, 32, 14, 30, 14, 22, 40, 44, 29, 31, 19, 52, 19, 31, 30, 36, 40, 18, 24, 28, 23, 25, 26, 51, 46, 31, 17, 38, 23, 25, 27, 10, 32, 49, 22, 10, 26, 20, 14, 24, 35, 48, 26, 23, 12, 27, 18, 29, 19, 10, 43, 33, 25, 29, 22, 29, 38, 32, 11, 28, 39, 24, 46, 36, 20, 44, 21, 36, 8, 15, 26, 23, 27, 12, 37, 33, 30, 28, 16, 29, 22, 40, 26, 28, 32, 19, 17, 41, 31, 21, 17, 39, 43, 17, 20, 26, 26, 12, 17, 40, 13, 10, 18, 19, 32, 14, 20, 29, 12, 19, 22, 14, 38, 34, 22, 33, 16, 24, 21, 19, 21, 35, 31, 17, 23, 29, 30, 13, 17, 37, 11, 14, 11, 20, 36, 23, 26, 19, 20, 24, 22, 16, 18, 23, 25, 14, 18, 21, 21, 34, 14, 38, 33, 15, 18, 13, 13, 35, 19, 33, 10, 18, 20, 36, 29, 25, 18, 9, 34, 11, 25, 35, 10, 29, 26, 30, 25, 19, 34, 20, 21, 15, 34, 8, 13, 18, 19, 25, 13, 17, 21, 16, 25, 32, 10, 20, 21, 24, 19, 11, 18, 33, 24, 19, 23, 20, 30, 18, 12, 11, 24, 9, 16, 11, 14, 13, 17, 18, 9, 20, 18, 18, 12, 30, 19, 25, 15, 26, 17, 13, 16, 17, 21, 30, 14, 21, 24, 30, 22, 15, 11, 16, 16, 22, 17, 24, 10, 26, 17, 10, 13, 28, 28, 17, 19, 15, 22, 12, 5, 15, 14, 19, 28, 28, 27, 22, 17, 10, 8, 13, 27, 17, 20, 22, 15, 19, 27, 13, 25, 22, 9, 14, 19, 26, 12, 26, 17, 10, 12, 24, 23, 13, 20, 9, 16, 25, 15, 8, 14, 25, 20, 21, 13, 25, 12, 16, 16, 18, 25, 16, 18, 23, 13, 7, 11, 8, 10, 8, 20, 11, 20, 10, 18, 12, 24, 13, 17, 23, 23, 15, 21, 14, 16, 23, 14, 17, 19, 10, 17, 13, 20, 13, 14, 22, 15, 16, 13, 22, 14, 9, 12, 9, 15, 10, 12, 8, 21, 6, 11, 18, 12, 16, 18, 8, 9, 9, 11, 13, 17, 10, 21, 13, 12, 17, 18, 12, 21, 13, 14, 8, 20, 10, 20, 20, 10, 9, 20, 20, 18, 8, 18, 13, 16, 10, 19, 19, 8, 18, 7, 11, 9, 19, 5, 8, 11, 6, 15, 14, 11, 18, 18, 11, 11, 16, 17, 15, 12, 18, 6, 18, 12, 12, 17, 12, 7, 16, 10, 8, 17, 12, 5, 9, 10, 6, 10, 7, 15, 14, 16, 17, 11, 13, 10, 13, 12, 16, 16, 16, 6, 6, 6, 10, 10, 10, 12, 8, 8, 11, 8, 8, 8, 11, 12, 4, 8, 7, 14, 12, 8, 15, 10, 9, 13, 5, 8, 15, 15, 14, 14, 5, 13, 15, 5, 15, 8, 12, 14, 14, 12, 11, 14, 9, 13, 10, 9, 10, 10, 9, 10, 13, 14, 5, 13, 12, 14, 11, 6, 14, 8, 10, 7, 12, 8, 7, 7, 7, 9, 13, 10, 7, 9, 6, 9, 11, 5, 10, 8, 11, 12, 12, 12, 8, 11, 10, 8, 12, 12, 6, 7, 5, 12, 8, 11, 11, 9, 10, 5, 3, 11, 11, 7, 11, 5, 6, 11, 9, 4, 10, 11, 11, 7, 6, 8, 10, 4, 5, 11, 5, 9, 6, 10, 10, 8, 9, 5, 4, 10, 7, 8, 7, 10, 10, 10, 10, 10, 9, 10, 9, 8, 9, 6, 10, 5, 6, 7, 9, 6, 3, 9, 9, 9, 9, 9, 7, 7, 6, 5, 7, 9, 9, 7, 6, 8, 5, 9, 9, 8, 4, 6, 5, 6, 8, 7, 6, 6, 8, 5, 7, 8, 5, 8, 4, 8, 4, 8, 8, 7, 3, 8, 8, 7, 8, 4, 5, 6, 4, 7, 5, 5, 5, 7, 6, 7, 7, 7, 5, 4, 7, 7, 6, 4, 6, 6, 6, 7, 7, 6, 7, 7, 6, 6, 2, 4, 6, 5, 4, 3, 6, 6, 6, 4, 5, 3, 5, 6, 3, 3, 4, 6, 3, 3, 6, 2, 6, 6, 6, 6, 5, 3, 6, 6, 4, 3, 6, 6, 6, 5, 4, 4, 4, 5, 5, 3, 3, 5, 5, 5, 4, 5, 5, 4, 5, 2, 5, 5, 5, 5, 5, 5, 3, 5, 5, 5, 4, 2, 4, 4, 3, 2, 4, 4, 4, 3, 2, 3, 2, 3, 2, 3, 3, 2, 2, 4, 4, 4, 4, 4, 4, 2, 4, 4, 4, 4, 4, 4, 3, 3, 3, 2, 3, 3, 3, 3, 3, 2, 1, 2, 2, 3, 3, 2, 2, 3, 3, 3, 3, 3, 3, 3, 2, 2, 2, 2, 2, 1, 2, 2, 2, 2, 2, 1, 2, 2, 2, 2, 2, 2, 2, 2, 2, 2, 2, 2, 1, 2, 2, 1, 1, 1, 1, 1, 1, 1, 1, 1, 1, 1, 1, 1, 1, 1, 1, 1, 1, 1, 1, 1, 1, 1, 1, 1, 1, 1, 1, 1, 0, 0, 0, 0, 0, 0, 0, 0, 0, 0, 0, 0, 0, 0, 0, 0, 0, 0, 0, 0, 0, 0, 0, 0, 0, 0, 0, 0, 0, 0, 0, 0, 0, 0, 0, 0, 0, 0, 0, 0, 0, 0, 0, 0, 0, 0, 0, 0, 0, 0, 0, 0]\n"
     ]
    }
   ],
   "source": [
    "print(hs)"
   ]
  },
  {
   "cell_type": "code",
   "execution_count": 17,
   "metadata": {},
   "outputs": [
    {
     "name": "stdout",
     "output_type": "stream",
     "text": [
      "<class 'pandas.core.frame.DataFrame'>\n",
      "RangeIndex: 2981 entries, 0 to 2980\n",
      "Data columns (total 12 columns):\n",
      "Player            2981 non-null object\n",
      "Span              2981 non-null object\n",
      "Mat               2981 non-null int64\n",
      "Inn               2981 non-null object\n",
      "NO                2981 non-null object\n",
      "Runs              2981 non-null object\n",
      "HS                2981 non-null object\n",
      "Avg               2981 non-null object\n",
      "100               2981 non-null object\n",
      "50                2981 non-null object\n",
      "0                 2981 non-null object\n",
      "Player Profile    2981 non-null object\n",
      "dtypes: int64(1), object(11)\n",
      "memory usage: 279.5+ KB\n"
     ]
    }
   ],
   "source": [
    "# summary of dataset\n",
    "df.info()"
   ]
  },
  {
   "cell_type": "code",
   "execution_count": 18,
   "metadata": {},
   "outputs": [],
   "source": [
    "df = df.convert_objects(convert_numeric=True)"
   ]
  },
  {
   "cell_type": "markdown",
   "metadata": {},
   "source": [
    "# Missing Value"
   ]
  },
  {
   "cell_type": "code",
   "execution_count": 19,
   "metadata": {},
   "outputs": [
    {
     "data": {
      "text/plain": [
       "<matplotlib.axes._subplots.AxesSubplot at 0x2681597b2e8>"
      ]
     },
     "execution_count": 19,
     "metadata": {},
     "output_type": "execute_result"
    },
    {
     "data": {
      "image/png": "[encoded data removed]",
      "text/plain": [
       "<Figure size 2160x720 with 2 Axes>"
      ]
     },
     "metadata": {
      "needs_background": "light"
     },
     "output_type": "display_data"
    }
   ],
   "source": [
    "# Plot graphic of missing values\n",
    "missingno.matrix(df, figsize = (30,10))"
   ]
  },
  {
   "cell_type": "code",
   "execution_count": 20,
   "metadata": {},
   "outputs": [
    {
     "data": {
      "text/plain": [
       "Player              0\n",
       "Span                0\n",
       "Mat                 0\n",
       "Inn                 0\n",
       "NO                  0\n",
       "Runs                0\n",
       "HS                657\n",
       "Avg                68\n",
       "100                 0\n",
       "50                  0\n",
       "0                   0\n",
       "Player Profile      0\n",
       "dtype: int64"
      ]
     },
     "execution_count": 20,
     "metadata": {},
     "output_type": "execute_result"
    }
   ],
   "source": [
    "# check for missing values\n",
    "\n",
    "df.isnull().sum()"
   ]
  },
  {
   "cell_type": "code",
   "execution_count": 21,
   "metadata": {},
   "outputs": [
    {
     "data": {
      "text/html": [
       "<div>\n",
       "<style scoped>\n",
       "    .dataframe tbody tr th:only-of-type {\n",
       "        vertical-align: middle;\n",
       "    }\n",
       "\n",
       "    .dataframe tbody tr th {\n",
       "        vertical-align: top;\n",
       "    }\n",
       "\n",
       "    .dataframe thead th {\n",
       "        text-align: right;\n",
       "    }\n",
       "</style>\n",
       "<table border=\"1\" class=\"dataframe\">\n",
       "  <thead>\n",
       "    <tr style=\"text-align: right;\">\n",
       "      <th></th>\n",
       "      <th>Mat</th>\n",
       "      <th>Inn</th>\n",
       "      <th>NO</th>\n",
       "      <th>Runs</th>\n",
       "      <th>HS</th>\n",
       "      <th>Avg</th>\n",
       "      <th>100</th>\n",
       "      <th>50</th>\n",
       "      <th>0</th>\n",
       "    </tr>\n",
       "  </thead>\n",
       "  <tbody>\n",
       "    <tr>\n",
       "      <th>count</th>\n",
       "      <td>2981.000000</td>\n",
       "      <td>2981.000000</td>\n",
       "      <td>2981.000000</td>\n",
       "      <td>2981.000000</td>\n",
       "      <td>2324.000000</td>\n",
       "      <td>2913.000000</td>\n",
       "      <td>2981.000000</td>\n",
       "      <td>2981.000000</td>\n",
       "      <td>2981.000000</td>\n",
       "    </tr>\n",
       "    <tr>\n",
       "      <th>mean</th>\n",
       "      <td>17.536397</td>\n",
       "      <td>28.282791</td>\n",
       "      <td>3.662194</td>\n",
       "      <td>745.010399</td>\n",
       "      <td>70.376076</td>\n",
       "      <td>20.539228</td>\n",
       "      <td>1.407917</td>\n",
       "      <td>3.414291</td>\n",
       "      <td>3.048977</td>\n",
       "    </tr>\n",
       "    <tr>\n",
       "      <th>std</th>\n",
       "      <td>25.002452</td>\n",
       "      <td>40.718944</td>\n",
       "      <td>6.244537</td>\n",
       "      <td>1557.183189</td>\n",
       "      <td>64.987165</td>\n",
       "      <td>14.548934</td>\n",
       "      <td>4.261501</td>\n",
       "      <td>7.663067</td>\n",
       "      <td>4.251997</td>\n",
       "    </tr>\n",
       "    <tr>\n",
       "      <th>min</th>\n",
       "      <td>1.000000</td>\n",
       "      <td>1.000000</td>\n",
       "      <td>0.000000</td>\n",
       "      <td>0.000000</td>\n",
       "      <td>0.000000</td>\n",
       "      <td>0.000000</td>\n",
       "      <td>0.000000</td>\n",
       "      <td>0.000000</td>\n",
       "      <td>0.000000</td>\n",
       "    </tr>\n",
       "    <tr>\n",
       "      <th>25%</th>\n",
       "      <td>3.000000</td>\n",
       "      <td>4.000000</td>\n",
       "      <td>0.000000</td>\n",
       "      <td>38.000000</td>\n",
       "      <td>21.000000</td>\n",
       "      <td>9.500000</td>\n",
       "      <td>0.000000</td>\n",
       "      <td>0.000000</td>\n",
       "      <td>0.000000</td>\n",
       "    </tr>\n",
       "    <tr>\n",
       "      <th>50%</th>\n",
       "      <td>7.000000</td>\n",
       "      <td>11.000000</td>\n",
       "      <td>1.000000</td>\n",
       "      <td>158.000000</td>\n",
       "      <td>49.000000</td>\n",
       "      <td>18.000000</td>\n",
       "      <td>0.000000</td>\n",
       "      <td>0.000000</td>\n",
       "      <td>1.000000</td>\n",
       "    </tr>\n",
       "    <tr>\n",
       "      <th>75%</th>\n",
       "      <td>21.000000</td>\n",
       "      <td>34.000000</td>\n",
       "      <td>4.000000</td>\n",
       "      <td>673.000000</td>\n",
       "      <td>103.250000</td>\n",
       "      <td>29.150000</td>\n",
       "      <td>1.000000</td>\n",
       "      <td>3.000000</td>\n",
       "      <td>4.000000</td>\n",
       "    </tr>\n",
       "    <tr>\n",
       "      <th>max</th>\n",
       "      <td>200.000000</td>\n",
       "      <td>329.000000</td>\n",
       "      <td>89.000000</td>\n",
       "      <td>15921.000000</td>\n",
       "      <td>380.000000</td>\n",
       "      <td>160.500000</td>\n",
       "      <td>51.000000</td>\n",
       "      <td>68.000000</td>\n",
       "      <td>43.000000</td>\n",
       "    </tr>\n",
       "  </tbody>\n",
       "</table>\n",
       "</div>"
      ],
      "text/plain": [
       "               Mat          Inn           NO          Runs           HS  \\\n",
       "count  2981.000000  2981.000000  2981.000000   2981.000000  2324.000000   \n",
       "mean     17.536397    28.282791     3.662194    745.010399    70.376076   \n",
       "std      25.002452    40.718944     6.244537   1557.183189    64.987165   \n",
       "min       1.000000     1.000000     0.000000      0.000000     0.000000   \n",
       "25%       3.000000     4.000000     0.000000     38.000000    21.000000   \n",
       "50%       7.000000    11.000000     1.000000    158.000000    49.000000   \n",
       "75%      21.000000    34.000000     4.000000    673.000000   103.250000   \n",
       "max     200.000000   329.000000    89.000000  15921.000000   380.000000   \n",
       "\n",
       "               Avg          100           50            0  \n",
       "count  2913.000000  2981.000000  2981.000000  2981.000000  \n",
       "mean     20.539228     1.407917     3.414291     3.048977  \n",
       "std      14.548934     4.261501     7.663067     4.251997  \n",
       "min       0.000000     0.000000     0.000000     0.000000  \n",
       "25%       9.500000     0.000000     0.000000     0.000000  \n",
       "50%      18.000000     0.000000     0.000000     1.000000  \n",
       "75%      29.150000     1.000000     3.000000     4.000000  \n",
       "max     160.500000    51.000000    68.000000    43.000000  "
      ]
     },
     "execution_count": 21,
     "metadata": {},
     "output_type": "execute_result"
    }
   ],
   "source": [
    "# statistical properties of dataset\n",
    "df.describe()"
   ]
  },
  {
   "cell_type": "code",
   "execution_count": 22,
   "metadata": {},
   "outputs": [
    {
     "data": {
      "text/html": [
       "<div>\n",
       "<style scoped>\n",
       "    .dataframe tbody tr th:only-of-type {\n",
       "        vertical-align: middle;\n",
       "    }\n",
       "\n",
       "    .dataframe tbody tr th {\n",
       "        vertical-align: top;\n",
       "    }\n",
       "\n",
       "    .dataframe thead th {\n",
       "        text-align: right;\n",
       "    }\n",
       "</style>\n",
       "<table border=\"1\" class=\"dataframe\">\n",
       "  <thead>\n",
       "    <tr style=\"text-align: right;\">\n",
       "      <th></th>\n",
       "      <th>Player</th>\n",
       "      <th>Span</th>\n",
       "      <th>Player Profile</th>\n",
       "    </tr>\n",
       "  </thead>\n",
       "  <tbody>\n",
       "    <tr>\n",
       "      <th>count</th>\n",
       "      <td>2981</td>\n",
       "      <td>2981</td>\n",
       "      <td>2981</td>\n",
       "    </tr>\n",
       "    <tr>\n",
       "      <th>unique</th>\n",
       "      <td>2975</td>\n",
       "      <td>1139</td>\n",
       "      <td>2981</td>\n",
       "    </tr>\n",
       "    <tr>\n",
       "      <th>top</th>\n",
       "      <td>A Ward (ENG)</td>\n",
       "      <td>2019-2019</td>\n",
       "      <td>http://stats.espncricinfo.com/ci/content/playe...</td>\n",
       "    </tr>\n",
       "    <tr>\n",
       "      <th>freq</th>\n",
       "      <td>2</td>\n",
       "      <td>44</td>\n",
       "      <td>1</td>\n",
       "    </tr>\n",
       "  </tbody>\n",
       "</table>\n",
       "</div>"
      ],
      "text/plain": [
       "              Player       Span  \\\n",
       "count           2981       2981   \n",
       "unique          2975       1139   \n",
       "top     A Ward (ENG)  2019-2019   \n",
       "freq               2         44   \n",
       "\n",
       "                                           Player Profile  \n",
       "count                                                2981  \n",
       "unique                                               2981  \n",
       "top     http://stats.espncricinfo.com/ci/content/playe...  \n",
       "freq                                                    1  "
      ]
     },
     "execution_count": 22,
     "metadata": {},
     "output_type": "execute_result"
    }
   ],
   "source": [
    "# statistical properties of dataset\n",
    "df.describe(include='object')"
   ]
  },
  {
   "cell_type": "code",
   "execution_count": 23,
   "metadata": {},
   "outputs": [],
   "source": [
    "df['HS'] = hs"
   ]
  },
  {
   "cell_type": "code",
   "execution_count": 24,
   "metadata": {},
   "outputs": [
    {
     "data": {
      "text/html": [
       "<div>\n",
       "<style scoped>\n",
       "    .dataframe tbody tr th:only-of-type {\n",
       "        vertical-align: middle;\n",
       "    }\n",
       "\n",
       "    .dataframe tbody tr th {\n",
       "        vertical-align: top;\n",
       "    }\n",
       "\n",
       "    .dataframe thead th {\n",
       "        text-align: right;\n",
       "    }\n",
       "</style>\n",
       "<table border=\"1\" class=\"dataframe\">\n",
       "  <thead>\n",
       "    <tr style=\"text-align: right;\">\n",
       "      <th></th>\n",
       "      <th>Player</th>\n",
       "      <th>Span</th>\n",
       "      <th>Mat</th>\n",
       "      <th>Inn</th>\n",
       "      <th>NO</th>\n",
       "      <th>Runs</th>\n",
       "      <th>HS</th>\n",
       "      <th>Avg</th>\n",
       "      <th>100</th>\n",
       "      <th>50</th>\n",
       "      <th>0</th>\n",
       "      <th>Player Profile</th>\n",
       "    </tr>\n",
       "  </thead>\n",
       "  <tbody>\n",
       "    <tr>\n",
       "      <th>0</th>\n",
       "      <td>SR Tendulkar (INDIA)</td>\n",
       "      <td>1989-2013</td>\n",
       "      <td>200</td>\n",
       "      <td>329</td>\n",
       "      <td>33</td>\n",
       "      <td>15921</td>\n",
       "      <td>248</td>\n",
       "      <td>53.78</td>\n",
       "      <td>51</td>\n",
       "      <td>68</td>\n",
       "      <td>14</td>\n",
       "      <td>http://stats.espncricinfo.com/ci/content/playe...</td>\n",
       "    </tr>\n",
       "    <tr>\n",
       "      <th>1</th>\n",
       "      <td>RT Ponting (AUS)</td>\n",
       "      <td>1995-2012</td>\n",
       "      <td>168</td>\n",
       "      <td>287</td>\n",
       "      <td>29</td>\n",
       "      <td>13378</td>\n",
       "      <td>257</td>\n",
       "      <td>51.85</td>\n",
       "      <td>41</td>\n",
       "      <td>62</td>\n",
       "      <td>17</td>\n",
       "      <td>http://stats.espncricinfo.com/ci/content/playe...</td>\n",
       "    </tr>\n",
       "    <tr>\n",
       "      <th>2</th>\n",
       "      <td>JH Kallis (ICC/SA)</td>\n",
       "      <td>1995-2013</td>\n",
       "      <td>166</td>\n",
       "      <td>280</td>\n",
       "      <td>40</td>\n",
       "      <td>13289</td>\n",
       "      <td>224</td>\n",
       "      <td>55.37</td>\n",
       "      <td>45</td>\n",
       "      <td>58</td>\n",
       "      <td>16</td>\n",
       "      <td>http://stats.espncricinfo.com/ci/content/playe...</td>\n",
       "    </tr>\n",
       "    <tr>\n",
       "      <th>3</th>\n",
       "      <td>R Dravid (ICC/INDIA)</td>\n",
       "      <td>1996-2012</td>\n",
       "      <td>164</td>\n",
       "      <td>286</td>\n",
       "      <td>32</td>\n",
       "      <td>13288</td>\n",
       "      <td>270</td>\n",
       "      <td>52.31</td>\n",
       "      <td>36</td>\n",
       "      <td>63</td>\n",
       "      <td>8</td>\n",
       "      <td>http://stats.espncricinfo.com/ci/content/playe...</td>\n",
       "    </tr>\n",
       "    <tr>\n",
       "      <th>4</th>\n",
       "      <td>AN Cook (ENG)</td>\n",
       "      <td>2006-2018</td>\n",
       "      <td>161</td>\n",
       "      <td>291</td>\n",
       "      <td>16</td>\n",
       "      <td>12472</td>\n",
       "      <td>294</td>\n",
       "      <td>45.35</td>\n",
       "      <td>33</td>\n",
       "      <td>57</td>\n",
       "      <td>9</td>\n",
       "      <td>http://stats.espncricinfo.com/ci/content/playe...</td>\n",
       "    </tr>\n",
       "  </tbody>\n",
       "</table>\n",
       "</div>"
      ],
      "text/plain": [
       "                 Player       Span  Mat  Inn  NO   Runs   HS    Avg  100  50  \\\n",
       "0  SR Tendulkar (INDIA)  1989-2013  200  329  33  15921  248  53.78   51  68   \n",
       "1      RT Ponting (AUS)  1995-2012  168  287  29  13378  257  51.85   41  62   \n",
       "2    JH Kallis (ICC/SA)  1995-2013  166  280  40  13289  224  55.37   45  58   \n",
       "3  R Dravid (ICC/INDIA)  1996-2012  164  286  32  13288  270  52.31   36  63   \n",
       "4         AN Cook (ENG)  2006-2018  161  291  16  12472  294  45.35   33  57   \n",
       "\n",
       "    0                                     Player Profile  \n",
       "0  14  http://stats.espncricinfo.com/ci/content/playe...  \n",
       "1  17  http://stats.espncricinfo.com/ci/content/playe...  \n",
       "2  16  http://stats.espncricinfo.com/ci/content/playe...  \n",
       "3   8  http://stats.espncricinfo.com/ci/content/playe...  \n",
       "4   9  http://stats.espncricinfo.com/ci/content/playe...  "
      ]
     },
     "execution_count": 24,
     "metadata": {},
     "output_type": "execute_result"
    }
   ],
   "source": [
    "df.head()"
   ]
  },
  {
   "cell_type": "code",
   "execution_count": 25,
   "metadata": {},
   "outputs": [],
   "source": [
    "df = df.convert_objects(convert_numeric=True)"
   ]
  },
  {
   "cell_type": "code",
   "execution_count": 26,
   "metadata": {},
   "outputs": [
    {
     "name": "stdout",
     "output_type": "stream",
     "text": [
      "<class 'pandas.core.frame.DataFrame'>\n",
      "RangeIndex: 2981 entries, 0 to 2980\n",
      "Data columns (total 12 columns):\n",
      "Player            2981 non-null object\n",
      "Span              2981 non-null object\n",
      "Mat               2981 non-null int64\n",
      "Inn               2981 non-null int64\n",
      "NO                2981 non-null int64\n",
      "Runs              2981 non-null int64\n",
      "HS                2981 non-null int64\n",
      "Avg               2913 non-null float64\n",
      "100               2981 non-null int64\n",
      "50                2981 non-null int64\n",
      "0                 2981 non-null int64\n",
      "Player Profile    2981 non-null object\n",
      "dtypes: float64(1), int64(8), object(3)\n",
      "memory usage: 279.5+ KB\n"
     ]
    }
   ],
   "source": [
    "df.info()"
   ]
  },
  {
   "cell_type": "code",
   "execution_count": 27,
   "metadata": {},
   "outputs": [],
   "source": [
    "null_data = df[df.isnull().any(axis=1)]"
   ]
  },
  {
   "cell_type": "code",
   "execution_count": 28,
   "metadata": {},
   "outputs": [],
   "source": [
    "null_data_HS = df['HS'].notnull()"
   ]
  },
  {
   "cell_type": "code",
   "execution_count": 29,
   "metadata": {},
   "outputs": [],
   "source": [
    "filtered_HS = df[null_data_HS]"
   ]
  },
  {
   "cell_type": "code",
   "execution_count": 30,
   "metadata": {},
   "outputs": [
    {
     "data": {
      "text/plain": [
       "(2981, 12)"
      ]
     },
     "execution_count": 30,
     "metadata": {},
     "output_type": "execute_result"
    }
   ],
   "source": [
    "filtered_HS.shape"
   ]
  },
  {
   "cell_type": "code",
   "execution_count": 31,
   "metadata": {},
   "outputs": [],
   "source": [
    "null_data_AVG = df['Avg'].notnull()"
   ]
  },
  {
   "cell_type": "code",
   "execution_count": 32,
   "metadata": {},
   "outputs": [],
   "source": [
    "filtered_AVG = filtered_HS[null_data_AVG]"
   ]
  },
  {
   "cell_type": "code",
   "execution_count": 33,
   "metadata": {},
   "outputs": [
    {
     "data": {
      "text/plain": [
       "(2913, 12)"
      ]
     },
     "execution_count": 33,
     "metadata": {},
     "output_type": "execute_result"
    }
   ],
   "source": [
    "filtered_AVG.shape"
   ]
  },
  {
   "cell_type": "code",
   "execution_count": 34,
   "metadata": {},
   "outputs": [
    {
     "data": {
      "text/plain": [
       "<matplotlib.axes._subplots.AxesSubplot at 0x2681574a160>"
      ]
     },
     "execution_count": 34,
     "metadata": {},
     "output_type": "execute_result"
    },
    {
     "data": {
      "image/png": "[encoded data removed]",
      "text/plain": [
       "<Figure size 2160x720 with 2 Axes>"
      ]
     },
     "metadata": {
      "needs_background": "light"
     },
     "output_type": "display_data"
    }
   ],
   "source": [
    "# Plot graphic of missing values\n",
    "missingno.matrix(filtered_AVG, figsize = (30,10))"
   ]
  },
  {
   "cell_type": "code",
   "execution_count": 35,
   "metadata": {},
   "outputs": [
    {
     "data": {
      "image/png": "[encoded data removed]",
      "text/plain": [
       "<Figure size 720x432 with 1 Axes>"
      ]
     },
     "metadata": {
      "needs_background": "light"
     },
     "output_type": "display_data"
    }
   ],
   "source": [
    "f, ax = plt.subplots(figsize=(10,6))\n",
    "x = filtered_AVG['Mat']\n",
    "ax = sns.distplot(x, bins=10)\n",
    "plt.show()"
   ]
  },
  {
   "cell_type": "markdown",
   "metadata": {},
   "source": [
    "## Top 5 Batsman Scores"
   ]
  },
  {
   "cell_type": "code",
   "execution_count": 36,
   "metadata": {},
   "outputs": [],
   "source": [
    "top_5_runs = filtered_AVG.nlargest(5,\"Runs\")"
   ]
  },
  {
   "cell_type": "code",
   "execution_count": 37,
   "metadata": {},
   "outputs": [
    {
     "name": "stdout",
     "output_type": "stream",
     "text": [
      "Top 5 Batsman Run Scorers \n",
      "                  Player       Span  Mat  Inn  NO   Runs   HS    Avg  100  50  \\\n",
      "0  SR Tendulkar (INDIA)  1989-2013  200  329  33  15921  248  53.78   51  68   \n",
      "1      RT Ponting (AUS)  1995-2012  168  287  29  13378  257  51.85   41  62   \n",
      "2    JH Kallis (ICC/SA)  1995-2013  166  280  40  13289  224  55.37   45  58   \n",
      "3  R Dravid (ICC/INDIA)  1996-2012  164  286  32  13288  270  52.31   36  63   \n",
      "4         AN Cook (ENG)  2006-2018  161  291  16  12472  294  45.35   33  57   \n",
      "\n",
      "    0                                     Player Profile  \n",
      "0  14  http://stats.espncricinfo.com/ci/content/playe...  \n",
      "1  17  http://stats.espncricinfo.com/ci/content/playe...  \n",
      "2  16  http://stats.espncricinfo.com/ci/content/playe...  \n",
      "3   8  http://stats.espncricinfo.com/ci/content/playe...  \n",
      "4   9  http://stats.espncricinfo.com/ci/content/playe...  \n"
     ]
    }
   ],
   "source": [
    "print(\"Top 5 Batsman Run Scorers \\n\",top_5_runs)"
   ]
  },
  {
   "cell_type": "code",
   "execution_count": 38,
   "metadata": {},
   "outputs": [],
   "source": [
    "runs = top_5_runs['Runs']\n",
    "runs = list(runs)\n",
    "player = top_5_runs['Player']\n",
    "player = list(player)"
   ]
  },
  {
   "cell_type": "markdown",
   "metadata": {},
   "source": [
    "## Bar Plot"
   ]
  },
  {
   "cell_type": "code",
   "execution_count": 39,
   "metadata": {},
   "outputs": [
    {
     "data": {
      "image/png": "[encoded data removed]",
      "text/plain": [
       "<Figure size 432x288 with 1 Axes>"
      ]
     },
     "metadata": {
      "needs_background": "light"
     },
     "output_type": "display_data"
    }
   ],
   "source": [
    "y_pos = np.arange(len(player))\n",
    "my_colors = 'rgbkymc'\n",
    "\n",
    "plt.bar(y_pos,runs,color=my_colors)\n",
    "plt.xticks(y_pos,player)\n",
    "plt.rcParams[\"figure.figsize\"] = (15,15)\n",
    "plt.show()"
   ]
  },
  {
   "cell_type": "markdown",
   "metadata": {},
   "source": [
    "## Top Five Not Outs Batsman"
   ]
  },
  {
   "cell_type": "code",
   "execution_count": 40,
   "metadata": {},
   "outputs": [],
   "source": [
    "top_5_no = filtered_AVG.nlargest(5,\"NO\")"
   ]
  },
  {
   "cell_type": "code",
   "execution_count": 41,
   "metadata": {},
   "outputs": [
    {
     "name": "stdout",
     "output_type": "stream",
     "text": [
      "Top 5 Not Out Batsman \n",
      "                        Player       Span  Mat  Inn  NO  Runs  HS    Avg  100  \\\n",
      "487         JM Anderson (ENG)  2003-2019  150  211  89  1181  81   9.68    0   \n",
      "580             CA Walsh (WI)  1984-2001  132  185  61   936  30   7.54    0   \n",
      "461   M Muralitharan (ICC/SL)  1992-2010  133  164  56  1261  67  11.67    0   \n",
      "639          RGD Willis (ENG)  1971-1984   90  128  55   840  28  11.50    0   \n",
      "1623           CS Martin (NZ)  2000-2013   71  104  52   123  12   2.36    0   \n",
      "\n",
      "      50   0                                     Player Profile  \n",
      "487    1  26  http://stats.espncricinfo.com/ci/content/playe...  \n",
      "580    0  43  http://stats.espncricinfo.com/ci/content/playe...  \n",
      "461    1  33  http://stats.espncricinfo.com/ci/content/playe...  \n",
      "639    0  12  http://stats.espncricinfo.com/ci/content/playe...  \n",
      "1623   0  36  http://stats.espncricinfo.com/ci/content/playe...  \n"
     ]
    }
   ],
   "source": [
    "print(\"Top 5 Not Out Batsman \\n\",top_5_no)"
   ]
  },
  {
   "cell_type": "code",
   "execution_count": 42,
   "metadata": {},
   "outputs": [],
   "source": [
    "not_out = top_5_no['NO']\n",
    "not_out = list(not_out)\n",
    "player = top_5_no['Player']\n",
    "player = list(player)"
   ]
  },
  {
   "cell_type": "markdown",
   "metadata": {},
   "source": [
    "## Bar Plot"
   ]
  },
  {
   "cell_type": "code",
   "execution_count": 43,
   "metadata": {},
   "outputs": [
    {
     "data": {
      "image/png": "[encoded data removed]",
      "text/plain": [
       "<Figure size 1080x1080 with 1 Axes>"
      ]
     },
     "metadata": {
      "needs_background": "light"
     },
     "output_type": "display_data"
    }
   ],
   "source": [
    "y_pos = np.arange(len(player))\n",
    "my_colors = 'rgbkymc'\n",
    "\n",
    "plt.bar(y_pos,not_out,color=my_colors)\n",
    "plt.xticks(y_pos,player)\n",
    "plt.rcParams[\"figure.figsize\"] = (15,15)\n",
    "plt.show()"
   ]
  },
  {
   "cell_type": "markdown",
   "metadata": {},
   "source": [
    "## Top Five Average Batsman Minimum 50 Matches"
   ]
  },
  {
   "cell_type": "code",
   "execution_count": 44,
   "metadata": {},
   "outputs": [
    {
     "data": {
      "text/html": [
       "<div>\n",
       "<style scoped>\n",
       "    .dataframe tbody tr th:only-of-type {\n",
       "        vertical-align: middle;\n",
       "    }\n",
       "\n",
       "    .dataframe tbody tr th {\n",
       "        vertical-align: top;\n",
       "    }\n",
       "\n",
       "    .dataframe thead th {\n",
       "        text-align: right;\n",
       "    }\n",
       "</style>\n",
       "<table border=\"1\" class=\"dataframe\">\n",
       "  <thead>\n",
       "    <tr style=\"text-align: right;\">\n",
       "      <th></th>\n",
       "      <th>Player</th>\n",
       "      <th>Span</th>\n",
       "      <th>Mat</th>\n",
       "      <th>Inn</th>\n",
       "      <th>NO</th>\n",
       "      <th>Runs</th>\n",
       "      <th>HS</th>\n",
       "      <th>Avg</th>\n",
       "      <th>100</th>\n",
       "      <th>50</th>\n",
       "      <th>0</th>\n",
       "      <th>Player Profile</th>\n",
       "    </tr>\n",
       "  </thead>\n",
       "  <tbody>\n",
       "    <tr>\n",
       "      <th>0</th>\n",
       "      <td>SR Tendulkar (INDIA)</td>\n",
       "      <td>1989-2013</td>\n",
       "      <td>200</td>\n",
       "      <td>329</td>\n",
       "      <td>33</td>\n",
       "      <td>15921</td>\n",
       "      <td>248</td>\n",
       "      <td>53.78</td>\n",
       "      <td>51</td>\n",
       "      <td>68</td>\n",
       "      <td>14</td>\n",
       "      <td>http://stats.espncricinfo.com/ci/content/playe...</td>\n",
       "    </tr>\n",
       "    <tr>\n",
       "      <th>1</th>\n",
       "      <td>RT Ponting (AUS)</td>\n",
       "      <td>1995-2012</td>\n",
       "      <td>168</td>\n",
       "      <td>287</td>\n",
       "      <td>29</td>\n",
       "      <td>13378</td>\n",
       "      <td>257</td>\n",
       "      <td>51.85</td>\n",
       "      <td>41</td>\n",
       "      <td>62</td>\n",
       "      <td>17</td>\n",
       "      <td>http://stats.espncricinfo.com/ci/content/playe...</td>\n",
       "    </tr>\n",
       "    <tr>\n",
       "      <th>2</th>\n",
       "      <td>JH Kallis (ICC/SA)</td>\n",
       "      <td>1995-2013</td>\n",
       "      <td>166</td>\n",
       "      <td>280</td>\n",
       "      <td>40</td>\n",
       "      <td>13289</td>\n",
       "      <td>224</td>\n",
       "      <td>55.37</td>\n",
       "      <td>45</td>\n",
       "      <td>58</td>\n",
       "      <td>16</td>\n",
       "      <td>http://stats.espncricinfo.com/ci/content/playe...</td>\n",
       "    </tr>\n",
       "    <tr>\n",
       "      <th>3</th>\n",
       "      <td>R Dravid (ICC/INDIA)</td>\n",
       "      <td>1996-2012</td>\n",
       "      <td>164</td>\n",
       "      <td>286</td>\n",
       "      <td>32</td>\n",
       "      <td>13288</td>\n",
       "      <td>270</td>\n",
       "      <td>52.31</td>\n",
       "      <td>36</td>\n",
       "      <td>63</td>\n",
       "      <td>8</td>\n",
       "      <td>http://stats.espncricinfo.com/ci/content/playe...</td>\n",
       "    </tr>\n",
       "    <tr>\n",
       "      <th>4</th>\n",
       "      <td>AN Cook (ENG)</td>\n",
       "      <td>2006-2018</td>\n",
       "      <td>161</td>\n",
       "      <td>291</td>\n",
       "      <td>16</td>\n",
       "      <td>12472</td>\n",
       "      <td>294</td>\n",
       "      <td>45.35</td>\n",
       "      <td>33</td>\n",
       "      <td>57</td>\n",
       "      <td>9</td>\n",
       "      <td>http://stats.espncricinfo.com/ci/content/playe...</td>\n",
       "    </tr>\n",
       "  </tbody>\n",
       "</table>\n",
       "</div>"
      ],
      "text/plain": [
       "                 Player       Span  Mat  Inn  NO   Runs   HS    Avg  100  50  \\\n",
       "0  SR Tendulkar (INDIA)  1989-2013  200  329  33  15921  248  53.78   51  68   \n",
       "1      RT Ponting (AUS)  1995-2012  168  287  29  13378  257  51.85   41  62   \n",
       "2    JH Kallis (ICC/SA)  1995-2013  166  280  40  13289  224  55.37   45  58   \n",
       "3  R Dravid (ICC/INDIA)  1996-2012  164  286  32  13288  270  52.31   36  63   \n",
       "4         AN Cook (ENG)  2006-2018  161  291  16  12472  294  45.35   33  57   \n",
       "\n",
       "    0                                     Player Profile  \n",
       "0  14  http://stats.espncricinfo.com/ci/content/playe...  \n",
       "1  17  http://stats.espncricinfo.com/ci/content/playe...  \n",
       "2  16  http://stats.espncricinfo.com/ci/content/playe...  \n",
       "3   8  http://stats.espncricinfo.com/ci/content/playe...  \n",
       "4   9  http://stats.espncricinfo.com/ci/content/playe...  "
      ]
     },
     "execution_count": 44,
     "metadata": {},
     "output_type": "execute_result"
    }
   ],
   "source": [
    "match_50 = filtered_AVG[filtered_AVG['Mat']>=50]\n",
    "match_50.head()"
   ]
  },
  {
   "cell_type": "code",
   "execution_count": 45,
   "metadata": {},
   "outputs": [
    {
     "name": "stdout",
     "output_type": "stream",
     "text": [
      "Top 5 Average Batsman \n",
      "                   Player       Span  Mat  Inn  NO  Runs   HS    Avg  100  50  \\\n",
      "52      DG Bradman (AUS)  1928-1948   52   80  10  6996  334  99.94   29  13   \n",
      "47       SPD Smith (AUS)  2010-2019   72  130  16  7164  239  62.84   26  28   \n",
      "103    H Sutcliffe (ENG)  1924-1935   54   84   9  4555  194  60.73   16  23   \n",
      "56   KF Barrington (ENG)  1955-1968   82  131  15  6806  256  58.67   20  35   \n",
      "42      WR Hammond (ENG)  1927-1947   85  140  16  7249  336  58.45   22  24   \n",
      "\n",
      "     0                                     Player Profile  \n",
      "52   7  http://stats.espncricinfo.com/ci/content/playe...  \n",
      "47   4  http://stats.espncricinfo.com/ci/content/playe...  \n",
      "103  2  http://stats.espncricinfo.com/ci/content/playe...  \n",
      "56   5  http://stats.espncricinfo.com/ci/content/playe...  \n",
      "42   4  http://stats.espncricinfo.com/ci/content/playe...  \n"
     ]
    }
   ],
   "source": [
    "top_5_avg = match_50.nlargest(5,\"Avg\")\n",
    "print(\"Top 5 Average Batsman \\n\",top_5_avg)"
   ]
  },
  {
   "cell_type": "code",
   "execution_count": 46,
   "metadata": {},
   "outputs": [],
   "source": [
    "avg = top_5_avg['Avg']\n",
    "avg = list(avg)\n",
    "player = top_5_avg['Player']\n",
    "player = list(player)"
   ]
  },
  {
   "cell_type": "markdown",
   "metadata": {},
   "source": [
    "## Bar Plot"
   ]
  },
  {
   "cell_type": "code",
   "execution_count": 47,
   "metadata": {},
   "outputs": [
    {
     "data": {
      "image/png": "[encoded data removed]",
      "text/plain": [
       "<Figure size 1080x1080 with 1 Axes>"
      ]
     },
     "metadata": {
      "needs_background": "light"
     },
     "output_type": "display_data"
    }
   ],
   "source": [
    "y_pos = np.arange(len(player))\n",
    "my_colors = 'rgbkymc'\n",
    "\n",
    "plt.bar(y_pos,avg,color=my_colors)\n",
    "plt.xticks(y_pos,player)\n",
    "plt.rcParams[\"figure.figsize\"] = (15,15)\n",
    "plt.show()"
   ]
  },
  {
   "cell_type": "markdown",
   "metadata": {},
   "source": [
    "## Top 5 Batsmens with High Scores"
   ]
  },
  {
   "cell_type": "code",
   "execution_count": 49,
   "metadata": {},
   "outputs": [],
   "source": [
    "top_5_hs = filtered_AVG.nlargest(5,\"HS\")"
   ]
  },
  {
   "cell_type": "code",
   "execution_count": 50,
   "metadata": {},
   "outputs": [
    {
     "name": "stdout",
     "output_type": "stream",
     "text": [
      "Top 5 Batsmens with High Scores \n",
      "                    Player       Span  Mat  Inn  NO   Runs   HS    Avg  100  \\\n",
      "6        BC Lara (ICC/WI)  1990-2006  131  232   6  11953  400  52.88   34   \n",
      "21        ML Hayden (AUS)  1994-2009  103  184  14   8625  380  50.73   30   \n",
      "8   DPMD Jayawardene (SL)  1997-2014  149  252  15  11814  374  49.84   34   \n",
      "28         GS Sobers (WI)  1954-1974   93  160  21   8032  365  57.78   26   \n",
      "54         L Hutton (ENG)  1937-1955   79  138  15   6971  364  56.67   19   \n",
      "\n",
      "    50   0                                     Player Profile  \n",
      "6   48  17  http://stats.espncricinfo.com/ci/content/playe...  \n",
      "21  29  14  http://stats.espncricinfo.com/ci/content/playe...  \n",
      "8   50  15  http://stats.espncricinfo.com/ci/content/playe...  \n",
      "28  30  12  http://stats.espncricinfo.com/ci/content/playe...  \n",
      "54  33   5  http://stats.espncricinfo.com/ci/content/playe...  \n"
     ]
    }
   ],
   "source": [
    "print(\"Top 5 Batsmens with High Scores \\n\",top_5_hs)"
   ]
  },
  {
   "cell_type": "code",
   "execution_count": 53,
   "metadata": {},
   "outputs": [],
   "source": [
    "h_s = top_5_hs['HS']\n",
    "h_s = list(h_s)\n",
    "player = top_5_hs['Player']\n",
    "player = list(player)"
   ]
  },
  {
   "cell_type": "markdown",
   "metadata": {},
   "source": [
    "## Barplot"
   ]
  },
  {
   "cell_type": "code",
   "execution_count": 54,
   "metadata": {},
   "outputs": [
    {
     "data": {
      "image/png": "[encoded data removed]",
      "text/plain": [
       "<Figure size 1080x1080 with 1 Axes>"
      ]
     },
     "metadata": {
      "needs_background": "light"
     },
     "output_type": "display_data"
    }
   ],
   "source": [
    "y_pos = np.arange(len(player))\n",
    "my_colors = 'rgbkymc'\n",
    "\n",
    "plt.bar(y_pos,h_s,color=my_colors)\n",
    "plt.xticks(y_pos,player)\n",
    "plt.rcParams[\"figure.figsize\"] = (15,15)\n",
    "plt.show()"
   ]
  },
  {
   "cell_type": "code",
   "execution_count": null,
   "metadata": {},
   "outputs": [],
   "source": []
  }
 ],
 "metadata": {
  "kernelspec": {
   "display_name": "Python 3",
   "language": "python",
   "name": "python3"
  },
  "language_info": {
   "codemirror_mode": {
    "name": "ipython",
    "version": 3
   },
   "file_extension": ".py",
   "mimetype": "text/x-python",
   "name": "python",
   "nbconvert_exporter": "python",
   "pygments_lexer": "ipython3",
   "version": "3.7.1"
  }
 },
 "nbformat": 4,
 "nbformat_minor": 2
}
